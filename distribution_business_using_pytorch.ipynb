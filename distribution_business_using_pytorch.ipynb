{
 "cells": [
  {
   "cell_type": "code",
   "execution_count": 1,
   "metadata": {},
   "outputs": [],
   "source": [
    "import torch\n",
    "import numpy as np\n",
    "import pandas as pd\n",
    "import torch.nn as nn\n",
    "import torch.optim as optim\n",
    "from LSTM_model import LSTMModel\n",
    "from torch.utils.data import DataLoader, Dataset"
   ]
  },
  {
   "cell_type": "code",
   "execution_count": 2,
   "metadata": {},
   "outputs": [
    {
     "data": {
      "text/html": [
       "<div>\n",
       "<style scoped>\n",
       "    .dataframe tbody tr th:only-of-type {\n",
       "        vertical-align: middle;\n",
       "    }\n",
       "\n",
       "    .dataframe tbody tr th {\n",
       "        vertical-align: top;\n",
       "    }\n",
       "\n",
       "    .dataframe thead th {\n",
       "        text-align: right;\n",
       "    }\n",
       "</style>\n",
       "<table border=\"1\" class=\"dataframe\">\n",
       "  <thead>\n",
       "    <tr style=\"text-align: right;\">\n",
       "      <th></th>\n",
       "      <th>INV</th>\n",
       "      <th>INVOICE</th>\n",
       "      <th>C/CODE</th>\n",
       "      <th>CUSTOMER  NAME</th>\n",
       "      <th>CUSTOMER ADDRESS</th>\n",
       "      <th>ITEM</th>\n",
       "      <th>ITEMS NAME</th>\n",
       "      <th>CTN RATE</th>\n",
       "      <th>QUANTITY</th>\n",
       "      <th>Unnamed: 9</th>\n",
       "      <th>T/O</th>\n",
       "      <th>NET VALUE</th>\n",
       "    </tr>\n",
       "  </thead>\n",
       "  <tbody>\n",
       "    <tr>\n",
       "      <th>0</th>\n",
       "      <td>#</td>\n",
       "      <td>DATE</td>\n",
       "      <td>NaN</td>\n",
       "      <td>NAME</td>\n",
       "      <td>NaN</td>\n",
       "      <td>CODE</td>\n",
       "      <td>NaN</td>\n",
       "      <td>NaN</td>\n",
       "      <td>CTN</td>\n",
       "      <td>PCS</td>\n",
       "      <td>NaN</td>\n",
       "      <td>NaN</td>\n",
       "    </tr>\n",
       "    <tr>\n",
       "      <th>1</th>\n",
       "      <td>3</td>\n",
       "      <td>10-Sep-21</td>\n",
       "      <td>9295.0</td>\n",
       "      <td>BIG BITE FAST FOOD</td>\n",
       "      <td>WARSAK ROAD</td>\n",
       "      <td>1770</td>\n",
       "      <td>DEEN'S CHADDER CHEESE BLOCK 2K</td>\n",
       "      <td>14500.0</td>\n",
       "      <td>1</td>\n",
       "      <td>0</td>\n",
       "      <td>1000.0</td>\n",
       "      <td>13500.0</td>\n",
       "    </tr>\n",
       "    <tr>\n",
       "      <th>2</th>\n",
       "      <td>3</td>\n",
       "      <td>10-Sep-21</td>\n",
       "      <td>9295.0</td>\n",
       "      <td>BIG BITE FAST FOOD</td>\n",
       "      <td>WARSAK ROAD</td>\n",
       "      <td>1771</td>\n",
       "      <td>DEEN'S MOZRELLA CHEESE BLOCK</td>\n",
       "      <td>19250.0</td>\n",
       "      <td>0</td>\n",
       "      <td>5</td>\n",
       "      <td>375.0</td>\n",
       "      <td>9250.0</td>\n",
       "    </tr>\n",
       "    <tr>\n",
       "      <th>3</th>\n",
       "      <td>4</td>\n",
       "      <td>10-Sep-21</td>\n",
       "      <td>8992.0</td>\n",
       "      <td>PIZZA FLAME</td>\n",
       "      <td>IBRAHIM MARKET</td>\n",
       "      <td>1770</td>\n",
       "      <td>DEEN'S CHADDER CHEESE BLOCK 2K</td>\n",
       "      <td>14500.0</td>\n",
       "      <td>0</td>\n",
       "      <td>2</td>\n",
       "      <td>200.0</td>\n",
       "      <td>2700.0</td>\n",
       "    </tr>\n",
       "    <tr>\n",
       "      <th>4</th>\n",
       "      <td>4</td>\n",
       "      <td>10-Sep-21</td>\n",
       "      <td>8992.0</td>\n",
       "      <td>PIZZA FLAME</td>\n",
       "      <td>IBRAHIM MARKET</td>\n",
       "      <td>1771</td>\n",
       "      <td>DEEN'S MOZRELLA CHEESE BLOCK</td>\n",
       "      <td>19250.0</td>\n",
       "      <td>0</td>\n",
       "      <td>2</td>\n",
       "      <td>150.0</td>\n",
       "      <td>3700.0</td>\n",
       "    </tr>\n",
       "  </tbody>\n",
       "</table>\n",
       "</div>"
      ],
      "text/plain": [
       "  INV    INVOICE  C/CODE      CUSTOMER  NAME CUSTOMER ADDRESS  ITEM  \\\n",
       "0   #       DATE     NaN                NAME              NaN  CODE   \n",
       "1   3  10-Sep-21  9295.0  BIG BITE FAST FOOD      WARSAK ROAD  1770   \n",
       "2   3  10-Sep-21  9295.0  BIG BITE FAST FOOD      WARSAK ROAD  1771   \n",
       "3   4  10-Sep-21  8992.0         PIZZA FLAME   IBRAHIM MARKET  1770   \n",
       "4   4  10-Sep-21  8992.0         PIZZA FLAME   IBRAHIM MARKET  1771   \n",
       "\n",
       "                       ITEMS NAME  CTN RATE QUANTITY Unnamed: 9     T/O  \\\n",
       "0                             NaN       NaN      CTN        PCS     NaN   \n",
       "1  DEEN'S CHADDER CHEESE BLOCK 2K   14500.0        1          0  1000.0   \n",
       "2    DEEN'S MOZRELLA CHEESE BLOCK   19250.0        0          5   375.0   \n",
       "3  DEEN'S CHADDER CHEESE BLOCK 2K   14500.0        0          2   200.0   \n",
       "4    DEEN'S MOZRELLA CHEESE BLOCK   19250.0        0          2   150.0   \n",
       "\n",
       "   NET VALUE  \n",
       "0        NaN  \n",
       "1    13500.0  \n",
       "2     9250.0  \n",
       "3     2700.0  \n",
       "4     3700.0  "
      ]
     },
     "execution_count": 2,
     "metadata": {},
     "output_type": "execute_result"
    }
   ],
   "source": [
    "df = pd.read_csv(\"distribution_business.csv\")\n",
    "df.head()"
   ]
  },
  {
   "cell_type": "code",
   "execution_count": 3,
   "metadata": {},
   "outputs": [
    {
     "name": "stderr",
     "output_type": "stream",
     "text": [
      "/tmp/ipykernel_38979/2161219627.py:1: UserWarning: Could not infer format, so each element will be parsed individually, falling back to `dateutil`. To ensure parsing is consistent and as-expected, please specify a format.\n",
      "  df = pd.read_csv('distribution_business.csv',header=1,names=[\"No\",\"Date\",\"C_id\",\"Customer_name\",\"Customer_address\",\"I_code\",\"Product_name\",\"CTN_price\",\"CTN\",\"PCS\",\"Total_discount\",\"Net_value\"],parse_dates=[\"Date\"])\n"
     ]
    },
    {
     "data": {
      "text/html": [
       "<div>\n",
       "<style scoped>\n",
       "    .dataframe tbody tr th:only-of-type {\n",
       "        vertical-align: middle;\n",
       "    }\n",
       "\n",
       "    .dataframe tbody tr th {\n",
       "        vertical-align: top;\n",
       "    }\n",
       "\n",
       "    .dataframe thead th {\n",
       "        text-align: right;\n",
       "    }\n",
       "</style>\n",
       "<table border=\"1\" class=\"dataframe\">\n",
       "  <thead>\n",
       "    <tr style=\"text-align: right;\">\n",
       "      <th></th>\n",
       "      <th>No</th>\n",
       "      <th>Date</th>\n",
       "      <th>C_id</th>\n",
       "      <th>Customer_name</th>\n",
       "      <th>Customer_address</th>\n",
       "      <th>I_code</th>\n",
       "      <th>Product_name</th>\n",
       "      <th>CTN_price</th>\n",
       "      <th>CTN</th>\n",
       "      <th>PCS</th>\n",
       "      <th>Total_discount</th>\n",
       "      <th>Net_value</th>\n",
       "    </tr>\n",
       "  </thead>\n",
       "  <tbody>\n",
       "    <tr>\n",
       "      <th>0</th>\n",
       "      <td>3</td>\n",
       "      <td>2021-09-10</td>\n",
       "      <td>9295</td>\n",
       "      <td>BIG BITE FAST FOOD</td>\n",
       "      <td>WARSAK ROAD</td>\n",
       "      <td>1770</td>\n",
       "      <td>DEEN'S CHADDER CHEESE BLOCK 2K</td>\n",
       "      <td>14500</td>\n",
       "      <td>1</td>\n",
       "      <td>0</td>\n",
       "      <td>1000</td>\n",
       "      <td>13500.0</td>\n",
       "    </tr>\n",
       "    <tr>\n",
       "      <th>1</th>\n",
       "      <td>3</td>\n",
       "      <td>2021-09-10</td>\n",
       "      <td>9295</td>\n",
       "      <td>BIG BITE FAST FOOD</td>\n",
       "      <td>WARSAK ROAD</td>\n",
       "      <td>1771</td>\n",
       "      <td>DEEN'S MOZRELLA CHEESE BLOCK</td>\n",
       "      <td>19250</td>\n",
       "      <td>0</td>\n",
       "      <td>5</td>\n",
       "      <td>375</td>\n",
       "      <td>9250.0</td>\n",
       "    </tr>\n",
       "    <tr>\n",
       "      <th>2</th>\n",
       "      <td>4</td>\n",
       "      <td>2021-09-10</td>\n",
       "      <td>8992</td>\n",
       "      <td>PIZZA FLAME</td>\n",
       "      <td>IBRAHIM MARKET</td>\n",
       "      <td>1770</td>\n",
       "      <td>DEEN'S CHADDER CHEESE BLOCK 2K</td>\n",
       "      <td>14500</td>\n",
       "      <td>0</td>\n",
       "      <td>2</td>\n",
       "      <td>200</td>\n",
       "      <td>2700.0</td>\n",
       "    </tr>\n",
       "    <tr>\n",
       "      <th>3</th>\n",
       "      <td>4</td>\n",
       "      <td>2021-09-10</td>\n",
       "      <td>8992</td>\n",
       "      <td>PIZZA FLAME</td>\n",
       "      <td>IBRAHIM MARKET</td>\n",
       "      <td>1771</td>\n",
       "      <td>DEEN'S MOZRELLA CHEESE BLOCK</td>\n",
       "      <td>19250</td>\n",
       "      <td>0</td>\n",
       "      <td>2</td>\n",
       "      <td>150</td>\n",
       "      <td>3700.0</td>\n",
       "    </tr>\n",
       "    <tr>\n",
       "      <th>4</th>\n",
       "      <td>5</td>\n",
       "      <td>2021-09-10</td>\n",
       "      <td>9903</td>\n",
       "      <td>CHIL &amp; GRILL 0312.9553655</td>\n",
       "      <td>MOHMAD ZAI</td>\n",
       "      <td>1770</td>\n",
       "      <td>DEEN'S CHADDER CHEESE BLOCK 2K</td>\n",
       "      <td>14500</td>\n",
       "      <td>0</td>\n",
       "      <td>2</td>\n",
       "      <td>200</td>\n",
       "      <td>2700.0</td>\n",
       "    </tr>\n",
       "  </tbody>\n",
       "</table>\n",
       "</div>"
      ],
      "text/plain": [
       "   No       Date  C_id              Customer_name Customer_address  I_code  \\\n",
       "0   3 2021-09-10  9295         BIG BITE FAST FOOD      WARSAK ROAD    1770   \n",
       "1   3 2021-09-10  9295         BIG BITE FAST FOOD      WARSAK ROAD    1771   \n",
       "2   4 2021-09-10  8992                PIZZA FLAME   IBRAHIM MARKET    1770   \n",
       "3   4 2021-09-10  8992                PIZZA FLAME   IBRAHIM MARKET    1771   \n",
       "4   5 2021-09-10  9903  CHIL & GRILL 0312.9553655       MOHMAD ZAI    1770   \n",
       "\n",
       "                     Product_name  CTN_price  CTN  PCS  Total_discount  \\\n",
       "0  DEEN'S CHADDER CHEESE BLOCK 2K      14500    1    0            1000   \n",
       "1    DEEN'S MOZRELLA CHEESE BLOCK      19250    0    5             375   \n",
       "2  DEEN'S CHADDER CHEESE BLOCK 2K      14500    0    2             200   \n",
       "3    DEEN'S MOZRELLA CHEESE BLOCK      19250    0    2             150   \n",
       "4  DEEN'S CHADDER CHEESE BLOCK 2K      14500    0    2             200   \n",
       "\n",
       "   Net_value  \n",
       "0    13500.0  \n",
       "1     9250.0  \n",
       "2     2700.0  \n",
       "3     3700.0  \n",
       "4     2700.0  "
      ]
     },
     "execution_count": 3,
     "metadata": {},
     "output_type": "execute_result"
    }
   ],
   "source": [
    "df = pd.read_csv('distribution_business.csv',header=1,names=[\"No\",\"Date\",\"C_id\",\"Customer_name\",\"Customer_address\",\"I_code\",\"Product_name\",\"CTN_price\",\"CTN\",\"PCS\",\"Total_discount\",\"Net_value\"],parse_dates=[\"Date\"])\n",
    "df.head()"
   ]
  },
  {
   "cell_type": "code",
   "execution_count": 4,
   "metadata": {},
   "outputs": [],
   "source": [
    "df = df.drop(\"No\", axis=1)"
   ]
  },
  {
   "cell_type": "code",
   "execution_count": 5,
   "metadata": {},
   "outputs": [
    {
     "data": {
      "text/html": [
       "<div>\n",
       "<style scoped>\n",
       "    .dataframe tbody tr th:only-of-type {\n",
       "        vertical-align: middle;\n",
       "    }\n",
       "\n",
       "    .dataframe tbody tr th {\n",
       "        vertical-align: top;\n",
       "    }\n",
       "\n",
       "    .dataframe thead th {\n",
       "        text-align: right;\n",
       "    }\n",
       "</style>\n",
       "<table border=\"1\" class=\"dataframe\">\n",
       "  <thead>\n",
       "    <tr style=\"text-align: right;\">\n",
       "      <th></th>\n",
       "      <th>Date</th>\n",
       "      <th>C_id</th>\n",
       "      <th>Customer_name</th>\n",
       "      <th>Customer_address</th>\n",
       "      <th>I_code</th>\n",
       "      <th>Product_name</th>\n",
       "      <th>CTN_price</th>\n",
       "      <th>CTN</th>\n",
       "      <th>PCS</th>\n",
       "      <th>Total_discount</th>\n",
       "      <th>Net_value</th>\n",
       "    </tr>\n",
       "  </thead>\n",
       "  <tbody>\n",
       "    <tr>\n",
       "      <th>92</th>\n",
       "      <td>2021-09-14</td>\n",
       "      <td>2132</td>\n",
       "      <td>FREE SAMPLING</td>\n",
       "      <td>NaN</td>\n",
       "      <td>1763</td>\n",
       "      <td>DEEN'S SLICE CHEESE 200GM</td>\n",
       "      <td>23600</td>\n",
       "      <td>0</td>\n",
       "      <td>1</td>\n",
       "      <td>0</td>\n",
       "      <td>295.0</td>\n",
       "    </tr>\n",
       "    <tr>\n",
       "      <th>192</th>\n",
       "      <td>2021-09-21</td>\n",
       "      <td>9556</td>\n",
       "      <td>EASY MART</td>\n",
       "      <td>ZANGAL MARKET</td>\n",
       "      <td>1763</td>\n",
       "      <td>DEEN'S SLICE CHEESE 200GM</td>\n",
       "      <td>23600</td>\n",
       "      <td>0</td>\n",
       "      <td>1</td>\n",
       "      <td>0</td>\n",
       "      <td>295.0</td>\n",
       "    </tr>\n",
       "    <tr>\n",
       "      <th>216</th>\n",
       "      <td>2021-09-21</td>\n",
       "      <td>8898</td>\n",
       "      <td>SS SUPER STORE</td>\n",
       "      <td>COL SHER KHAN MARKET</td>\n",
       "      <td>1763</td>\n",
       "      <td>DEEN'S SLICE CHEESE 200GM</td>\n",
       "      <td>23600</td>\n",
       "      <td>0</td>\n",
       "      <td>1</td>\n",
       "      <td>0</td>\n",
       "      <td>295.0</td>\n",
       "    </tr>\n",
       "    <tr>\n",
       "      <th>291</th>\n",
       "      <td>2021-09-25</td>\n",
       "      <td>2025</td>\n",
       "      <td>GUL G/S</td>\n",
       "      <td>Behram Market</td>\n",
       "      <td>1763</td>\n",
       "      <td>DEEN'S SLICE CHEESE 200GM</td>\n",
       "      <td>23600</td>\n",
       "      <td>0</td>\n",
       "      <td>1</td>\n",
       "      <td>0</td>\n",
       "      <td>295.0</td>\n",
       "    </tr>\n",
       "    <tr>\n",
       "      <th>429</th>\n",
       "      <td>2021-10-02</td>\n",
       "      <td>9031</td>\n",
       "      <td>UNIVERSITY BAKERS 03335992712</td>\n",
       "      <td>PESHAWAR UNIVERSITY</td>\n",
       "      <td>1763</td>\n",
       "      <td>DEEN'S SLICE CHEESE 200GM</td>\n",
       "      <td>23600</td>\n",
       "      <td>0</td>\n",
       "      <td>1</td>\n",
       "      <td>0</td>\n",
       "      <td>295.0</td>\n",
       "    </tr>\n",
       "  </tbody>\n",
       "</table>\n",
       "</div>"
      ],
      "text/plain": [
       "          Date  C_id                  Customer_name      Customer_address  \\\n",
       "92  2021-09-14  2132                  FREE SAMPLING                   NaN   \n",
       "192 2021-09-21  9556                      EASY MART         ZANGAL MARKET   \n",
       "216 2021-09-21  8898                 SS SUPER STORE  COL SHER KHAN MARKET   \n",
       "291 2021-09-25  2025                        GUL G/S         Behram Market   \n",
       "429 2021-10-02  9031  UNIVERSITY BAKERS 03335992712   PESHAWAR UNIVERSITY   \n",
       "\n",
       "     I_code               Product_name  CTN_price  CTN  PCS  Total_discount  \\\n",
       "92     1763  DEEN'S SLICE CHEESE 200GM      23600    0    1               0   \n",
       "192    1763  DEEN'S SLICE CHEESE 200GM      23600    0    1               0   \n",
       "216    1763  DEEN'S SLICE CHEESE 200GM      23600    0    1               0   \n",
       "291    1763  DEEN'S SLICE CHEESE 200GM      23600    0    1               0   \n",
       "429    1763  DEEN'S SLICE CHEESE 200GM      23600    0    1               0   \n",
       "\n",
       "     Net_value  \n",
       "92       295.0  \n",
       "192      295.0  \n",
       "216      295.0  \n",
       "291      295.0  \n",
       "429      295.0  "
      ]
     },
     "execution_count": 5,
     "metadata": {},
     "output_type": "execute_result"
    }
   ],
   "source": [
    "df = df.drop(df['Net_value'].nsmallest(11).index)\n",
    "\n",
    "min_rows = df.nsmallest(5, ['Net_value'])\n",
    "\n",
    "#  the resulting dataframe\n",
    "(min_rows)"
   ]
  },
  {
   "cell_type": "code",
   "execution_count": 6,
   "metadata": {},
   "outputs": [
    {
     "data": {
      "text/html": [
       "<div>\n",
       "<style scoped>\n",
       "    .dataframe tbody tr th:only-of-type {\n",
       "        vertical-align: middle;\n",
       "    }\n",
       "\n",
       "    .dataframe tbody tr th {\n",
       "        vertical-align: top;\n",
       "    }\n",
       "\n",
       "    .dataframe thead th {\n",
       "        text-align: right;\n",
       "    }\n",
       "</style>\n",
       "<table border=\"1\" class=\"dataframe\">\n",
       "  <thead>\n",
       "    <tr style=\"text-align: right;\">\n",
       "      <th></th>\n",
       "      <th>Date</th>\n",
       "      <th>C_id</th>\n",
       "      <th>Customer_name</th>\n",
       "      <th>Customer_address</th>\n",
       "      <th>I_code</th>\n",
       "      <th>Product_name</th>\n",
       "      <th>CTN_price</th>\n",
       "      <th>CTN</th>\n",
       "      <th>PCS</th>\n",
       "      <th>Total_discount</th>\n",
       "      <th>Net_value</th>\n",
       "    </tr>\n",
       "  </thead>\n",
       "  <tbody>\n",
       "    <tr>\n",
       "      <th>6</th>\n",
       "      <td>2021-09-11</td>\n",
       "      <td>6544</td>\n",
       "      <td>CHATRAL</td>\n",
       "      <td>CAMPUS</td>\n",
       "      <td>1758</td>\n",
       "      <td>DEEN'S CHEDDAR 200GM</td>\n",
       "      <td>20150</td>\n",
       "      <td>0</td>\n",
       "      <td>4</td>\n",
       "      <td>0</td>\n",
       "      <td>1240.0</td>\n",
       "    </tr>\n",
       "    <tr>\n",
       "      <th>7</th>\n",
       "      <td>2021-09-11</td>\n",
       "      <td>6544</td>\n",
       "      <td>CHATRAL</td>\n",
       "      <td>CAMPUS</td>\n",
       "      <td>1760</td>\n",
       "      <td>DEEN'S MOZARELLA 200GM</td>\n",
       "      <td>22425</td>\n",
       "      <td>0</td>\n",
       "      <td>6</td>\n",
       "      <td>0</td>\n",
       "      <td>2070.0</td>\n",
       "    </tr>\n",
       "    <tr>\n",
       "      <th>8</th>\n",
       "      <td>2021-09-11</td>\n",
       "      <td>6544</td>\n",
       "      <td>CHATRAL</td>\n",
       "      <td>CAMPUS</td>\n",
       "      <td>1762</td>\n",
       "      <td>DEEN'S PIZZA CHEESE 200GM</td>\n",
       "      <td>24050</td>\n",
       "      <td>0</td>\n",
       "      <td>2</td>\n",
       "      <td>0</td>\n",
       "      <td>740.0</td>\n",
       "    </tr>\n",
       "    <tr>\n",
       "      <th>9</th>\n",
       "      <td>2021-09-11</td>\n",
       "      <td>6544</td>\n",
       "      <td>CHATRAL</td>\n",
       "      <td>CAMPUS</td>\n",
       "      <td>1763</td>\n",
       "      <td>DEEN'S SLICE CHEESE 200GM</td>\n",
       "      <td>23600</td>\n",
       "      <td>0</td>\n",
       "      <td>2</td>\n",
       "      <td>0</td>\n",
       "      <td>590.0</td>\n",
       "    </tr>\n",
       "    <tr>\n",
       "      <th>10</th>\n",
       "      <td>2021-09-11</td>\n",
       "      <td>3467</td>\n",
       "      <td>IQRA SWEET &amp; BAKERS</td>\n",
       "      <td>CAMPUS</td>\n",
       "      <td>1758</td>\n",
       "      <td>DEEN'S CHEDDAR 200GM</td>\n",
       "      <td>20150</td>\n",
       "      <td>0</td>\n",
       "      <td>1</td>\n",
       "      <td>0</td>\n",
       "      <td>310.0</td>\n",
       "    </tr>\n",
       "  </tbody>\n",
       "</table>\n",
       "</div>"
      ],
      "text/plain": [
       "         Date  C_id        Customer_name Customer_address  I_code  \\\n",
       "6  2021-09-11  6544              CHATRAL           CAMPUS    1758   \n",
       "7  2021-09-11  6544              CHATRAL           CAMPUS    1760   \n",
       "8  2021-09-11  6544              CHATRAL           CAMPUS    1762   \n",
       "9  2021-09-11  6544              CHATRAL           CAMPUS    1763   \n",
       "10 2021-09-11  3467  IQRA SWEET & BAKERS           CAMPUS    1758   \n",
       "\n",
       "                 Product_name  CTN_price  CTN  PCS  Total_discount  Net_value  \n",
       "6        DEEN'S CHEDDAR 200GM      20150    0    4               0     1240.0  \n",
       "7      DEEN'S MOZARELLA 200GM      22425    0    6               0     2070.0  \n",
       "8   DEEN'S PIZZA CHEESE 200GM      24050    0    2               0      740.0  \n",
       "9   DEEN'S SLICE CHEESE 200GM      23600    0    2               0      590.0  \n",
       "10       DEEN'S CHEDDAR 200GM      20150    0    1               0      310.0  "
      ]
     },
     "execution_count": 6,
     "metadata": {},
     "output_type": "execute_result"
    }
   ],
   "source": [
    "df = df.drop(df['Total_discount'].nsmallest(2).index)\n",
    "\n",
    "min_rows = df.nsmallest(5, ['Total_discount'])\n",
    "#df = df.drop(min_rows.index)\n",
    "\n",
    "#  the resulting dataframe\n",
    "(min_rows)"
   ]
  },
  {
   "cell_type": "code",
   "execution_count": 7,
   "metadata": {},
   "outputs": [
    {
     "data": {
      "text/plain": [
       "Date                373\n",
       "C_id                221\n",
       "Customer_name       214\n",
       "Customer_address    131\n",
       "I_code               14\n",
       "Product_name         16\n",
       "CTN_price            43\n",
       "CTN                  11\n",
       "PCS                  24\n",
       "Total_discount      336\n",
       "Net_value           731\n",
       "dtype: int64"
      ]
     },
     "execution_count": 7,
     "metadata": {},
     "output_type": "execute_result"
    }
   ],
   "source": [
    "(df.nunique())"
   ]
  },
  {
   "cell_type": "code",
   "execution_count": 8,
   "metadata": {},
   "outputs": [
    {
     "data": {
      "text/plain": [
       "('Number of columns:', 11)"
      ]
     },
     "execution_count": 8,
     "metadata": {},
     "output_type": "execute_result"
    }
   ],
   "source": [
    "('Number of rows:', df.shape[0])\n",
    "('Number of columns:', df.shape[1])"
   ]
  },
  {
   "cell_type": "code",
   "execution_count": 9,
   "metadata": {},
   "outputs": [
    {
     "data": {
      "text/html": [
       "<div>\n",
       "<style scoped>\n",
       "    .dataframe tbody tr th:only-of-type {\n",
       "        vertical-align: middle;\n",
       "    }\n",
       "\n",
       "    .dataframe tbody tr th {\n",
       "        vertical-align: top;\n",
       "    }\n",
       "\n",
       "    .dataframe thead th {\n",
       "        text-align: right;\n",
       "    }\n",
       "</style>\n",
       "<table border=\"1\" class=\"dataframe\">\n",
       "  <thead>\n",
       "    <tr style=\"text-align: right;\">\n",
       "      <th></th>\n",
       "      <th>Date</th>\n",
       "      <th>C_id</th>\n",
       "      <th>I_code</th>\n",
       "      <th>CTN_price</th>\n",
       "      <th>CTN</th>\n",
       "      <th>PCS</th>\n",
       "      <th>Total_discount</th>\n",
       "      <th>Net_value</th>\n",
       "    </tr>\n",
       "  </thead>\n",
       "  <tbody>\n",
       "    <tr>\n",
       "      <th>count</th>\n",
       "      <td>7282</td>\n",
       "      <td>7282.000000</td>\n",
       "      <td>7282.000000</td>\n",
       "      <td>7282.000000</td>\n",
       "      <td>7282.000000</td>\n",
       "      <td>7282.000000</td>\n",
       "      <td>7282.000000</td>\n",
       "      <td>7282.000000</td>\n",
       "    </tr>\n",
       "    <tr>\n",
       "      <th>mean</th>\n",
       "      <td>2022-04-06 11:03:14.781653248</td>\n",
       "      <td>5189.002060</td>\n",
       "      <td>1764.258857</td>\n",
       "      <td>23851.971024</td>\n",
       "      <td>0.142131</td>\n",
       "      <td>3.148860</td>\n",
       "      <td>185.013321</td>\n",
       "      <td>5010.439247</td>\n",
       "    </tr>\n",
       "    <tr>\n",
       "      <th>min</th>\n",
       "      <td>2021-09-10 00:00:00</td>\n",
       "      <td>2005.000000</td>\n",
       "      <td>1758.000000</td>\n",
       "      <td>14400.000000</td>\n",
       "      <td>0.000000</td>\n",
       "      <td>0.000000</td>\n",
       "      <td>0.000000</td>\n",
       "      <td>295.000000</td>\n",
       "    </tr>\n",
       "    <tr>\n",
       "      <th>25%</th>\n",
       "      <td>2021-12-23 00:00:00</td>\n",
       "      <td>2136.000000</td>\n",
       "      <td>1760.000000</td>\n",
       "      <td>21180.000000</td>\n",
       "      <td>0.000000</td>\n",
       "      <td>2.000000</td>\n",
       "      <td>0.000000</td>\n",
       "      <td>902.000000</td>\n",
       "    </tr>\n",
       "    <tr>\n",
       "      <th>50%</th>\n",
       "      <td>2022-03-30 00:00:00</td>\n",
       "      <td>3403.000000</td>\n",
       "      <td>1763.000000</td>\n",
       "      <td>23725.000000</td>\n",
       "      <td>0.000000</td>\n",
       "      <td>2.000000</td>\n",
       "      <td>0.000000</td>\n",
       "      <td>1500.000000</td>\n",
       "    </tr>\n",
       "    <tr>\n",
       "      <th>75%</th>\n",
       "      <td>2022-07-18 00:00:00</td>\n",
       "      <td>9024.000000</td>\n",
       "      <td>1770.000000</td>\n",
       "      <td>26650.000000</td>\n",
       "      <td>0.000000</td>\n",
       "      <td>4.000000</td>\n",
       "      <td>90.000000</td>\n",
       "      <td>2904.000000</td>\n",
       "    </tr>\n",
       "    <tr>\n",
       "      <th>max</th>\n",
       "      <td>2022-12-03 00:00:00</td>\n",
       "      <td>9965.000000</td>\n",
       "      <td>1788.000000</td>\n",
       "      <td>36006.000000</td>\n",
       "      <td>12.000000</td>\n",
       "      <td>65.000000</td>\n",
       "      <td>24220.000000</td>\n",
       "      <td>258600.000000</td>\n",
       "    </tr>\n",
       "    <tr>\n",
       "      <th>std</th>\n",
       "      <td>NaN</td>\n",
       "      <td>3348.983995</td>\n",
       "      <td>5.410203</td>\n",
       "      <td>4821.487524</td>\n",
       "      <td>0.875108</td>\n",
       "      <td>3.310566</td>\n",
       "      <td>927.670823</td>\n",
       "      <td>17730.800894</td>\n",
       "    </tr>\n",
       "  </tbody>\n",
       "</table>\n",
       "</div>"
      ],
      "text/plain": [
       "                                Date         C_id       I_code     CTN_price  \\\n",
       "count                           7282  7282.000000  7282.000000   7282.000000   \n",
       "mean   2022-04-06 11:03:14.781653248  5189.002060  1764.258857  23851.971024   \n",
       "min              2021-09-10 00:00:00  2005.000000  1758.000000  14400.000000   \n",
       "25%              2021-12-23 00:00:00  2136.000000  1760.000000  21180.000000   \n",
       "50%              2022-03-30 00:00:00  3403.000000  1763.000000  23725.000000   \n",
       "75%              2022-07-18 00:00:00  9024.000000  1770.000000  26650.000000   \n",
       "max              2022-12-03 00:00:00  9965.000000  1788.000000  36006.000000   \n",
       "std                              NaN  3348.983995     5.410203   4821.487524   \n",
       "\n",
       "               CTN          PCS  Total_discount      Net_value  \n",
       "count  7282.000000  7282.000000     7282.000000    7282.000000  \n",
       "mean      0.142131     3.148860      185.013321    5010.439247  \n",
       "min       0.000000     0.000000        0.000000     295.000000  \n",
       "25%       0.000000     2.000000        0.000000     902.000000  \n",
       "50%       0.000000     2.000000        0.000000    1500.000000  \n",
       "75%       0.000000     4.000000       90.000000    2904.000000  \n",
       "max      12.000000    65.000000    24220.000000  258600.000000  \n",
       "std       0.875108     3.310566      927.670823   17730.800894  "
      ]
     },
     "execution_count": 9,
     "metadata": {},
     "output_type": "execute_result"
    }
   ],
   "source": [
    "df.describe()"
   ]
  },
  {
   "cell_type": "code",
   "execution_count": 10,
   "metadata": {},
   "outputs": [
    {
     "name": "stdout",
     "output_type": "stream",
     "text": [
      "<class 'pandas.core.frame.DataFrame'>\n",
      "Index: 7282 entries, 0 to 7294\n",
      "Data columns (total 11 columns):\n",
      " #   Column            Non-Null Count  Dtype         \n",
      "---  ------            --------------  -----         \n",
      " 0   Date              7282 non-null   datetime64[ns]\n",
      " 1   C_id              7282 non-null   int64         \n",
      " 2   Customer_name     7282 non-null   object        \n",
      " 3   Customer_address  7033 non-null   object        \n",
      " 4   I_code            7282 non-null   int64         \n",
      " 5   Product_name      7282 non-null   object        \n",
      " 6   CTN_price         7282 non-null   int64         \n",
      " 7   CTN               7282 non-null   int64         \n",
      " 8   PCS               7282 non-null   int64         \n",
      " 9   Total_discount    7282 non-null   int64         \n",
      " 10  Net_value         7282 non-null   float64       \n",
      "dtypes: datetime64[ns](1), float64(1), int64(6), object(3)\n",
      "memory usage: 682.7+ KB\n"
     ]
    }
   ],
   "source": [
    "df.info()"
   ]
  },
  {
   "cell_type": "code",
   "execution_count": 11,
   "metadata": {},
   "outputs": [
    {
     "data": {
      "text/plain": [
       "Date                  0\n",
       "C_id                  0\n",
       "Customer_name         0\n",
       "Customer_address    249\n",
       "I_code                0\n",
       "Product_name          0\n",
       "CTN_price             0\n",
       "CTN                   0\n",
       "PCS                   0\n",
       "Total_discount        0\n",
       "Net_value             0\n",
       "dtype: int64"
      ]
     },
     "execution_count": 11,
     "metadata": {},
     "output_type": "execute_result"
    }
   ],
   "source": [
    "df.isnull().sum()"
   ]
  },
  {
   "cell_type": "code",
   "execution_count": 12,
   "metadata": {},
   "outputs": [],
   "source": [
    "df.dropna(subset=['Customer_address'], inplace=True)"
   ]
  },
  {
   "cell_type": "code",
   "execution_count": 13,
   "metadata": {},
   "outputs": [
    {
     "data": {
      "text/plain": [
       "Date                0\n",
       "C_id                0\n",
       "Customer_name       0\n",
       "Customer_address    0\n",
       "I_code              0\n",
       "Product_name        0\n",
       "CTN_price           0\n",
       "CTN                 0\n",
       "PCS                 0\n",
       "Total_discount      0\n",
       "Net_value           0\n",
       "dtype: int64"
      ]
     },
     "execution_count": 13,
     "metadata": {},
     "output_type": "execute_result"
    }
   ],
   "source": [
    "df.isnull().sum()"
   ]
  },
  {
   "cell_type": "code",
   "execution_count": 14,
   "metadata": {},
   "outputs": [],
   "source": [
    "df.drop_duplicates(inplace=True)"
   ]
  },
  {
   "cell_type": "code",
   "execution_count": 15,
   "metadata": {},
   "outputs": [
    {
     "data": {
      "text/plain": [
       "0"
      ]
     },
     "execution_count": 15,
     "metadata": {},
     "output_type": "execute_result"
    }
   ],
   "source": [
    "df.duplicated().sum()"
   ]
  },
  {
   "cell_type": "code",
   "execution_count": 16,
   "metadata": {},
   "outputs": [
    {
     "data": {
      "text/plain": [
       "Date                datetime64[ns]\n",
       "C_id                         int64\n",
       "Customer_name               object\n",
       "Customer_address            object\n",
       "I_code                       int64\n",
       "Product_name                object\n",
       "CTN_price                    int64\n",
       "CTN                          int64\n",
       "PCS                          int64\n",
       "Total_discount               int64\n",
       "Net_value                  float64\n",
       "dtype: object"
      ]
     },
     "execution_count": 16,
     "metadata": {},
     "output_type": "execute_result"
    }
   ],
   "source": [
    "(df.dtypes)"
   ]
  },
  {
   "cell_type": "code",
   "execution_count": 17,
   "metadata": {},
   "outputs": [
    {
     "data": {
      "text/plain": [
       "array([\"DEEN'S CHADDER CHEESE BLOCK 2K\", \"DEEN'S MOZRELLA CHEESE BLOCK\",\n",
       "       \"DEEN'S CHEDDAR 200GM\", \"DEEN'S MOZARELLA 200GM\",\n",
       "       \"DEEN'S PIZZA CHEESE 200GM\", \"DEEN'S SLICE CHEESE 200GM\",\n",
       "       \"DEEN'S CHEDDAR 400GM\", \"DEEN'S MOZARELLA 400GM\",\n",
       "       \"DEEN'S SLICE CHEESE 1 KG\", 'w4-Dyh SLICE CHEESE 1 KG',\n",
       "       'DEEN SLICE CHEESE 1 KG', 'DEENS CHADDER 140G',\n",
       "       'DEENS CHADDER 907G', 'DEENS MOZRELLA 140G', 'DEENS PIZZA 400G',\n",
       "       'DEENS SLICE 250G'], dtype=object)"
      ]
     },
     "execution_count": 17,
     "metadata": {},
     "output_type": "execute_result"
    }
   ],
   "source": [
    "(df[\"Product_name\"].unique())"
   ]
  },
  {
   "cell_type": "code",
   "execution_count": 18,
   "metadata": {},
   "outputs": [
    {
     "data": {
      "text/plain": [
       "CTN\n",
       "0     6737\n",
       "1      102\n",
       "5       43\n",
       "2       41\n",
       "4       27\n",
       "3       19\n",
       "10      18\n",
       "6       16\n",
       "7       12\n",
       "8        7\n",
       "12       1\n",
       "Name: count, dtype: int64"
      ]
     },
     "execution_count": 18,
     "metadata": {},
     "output_type": "execute_result"
    }
   ],
   "source": [
    "(df[\"CTN\"].value_counts())"
   ]
  },
  {
   "cell_type": "code",
   "execution_count": 19,
   "metadata": {},
   "outputs": [
    {
     "data": {
      "text/plain": [
       "\"There are 33 rows with a value of 10 in the 'PCS' column.\""
      ]
     },
     "execution_count": 19,
     "metadata": {},
     "output_type": "execute_result"
    }
   ],
   "source": [
    "count_10 = (df['PCS'] == 10).sum()\n",
    "(f\"There are {count_10} rows with a value of 10 in the 'PCS' column.\")"
   ]
  },
  {
   "cell_type": "code",
   "execution_count": 20,
   "metadata": {},
   "outputs": [],
   "source": [
    "product_quantities = {\n",
    "    \"DEEN'S CHADDER CHEESE BLOCK 2K\": 10,\n",
    "    \"DEEN'S MOZRELLA CHEESE BLOCK\": 10,\n",
    "    \"DEEN'S CHEDDAR 200GM\": 72,\n",
    "    \"DEEN'S MOZARELLA 200GM\": 72,\n",
    "    \"DEEN'S PIZZA CHEESE 200GM\": 72,\n",
    "    \"DEEN'S SLICE CHEESE 200GM\": 80,\n",
    "    \"DEEN'S CHEDDAR 400GM\": 36,\n",
    "    \"DEEN'S MOZARELLA 400GM\": 36,\n",
    "    \"DEEN'S SLICE CHEESE 1 KG\": 16,\n",
    "    \"w4-Dyh SLICE CHEESE 1 KG\": 16,\n",
    "    \"DEEN SLICE CHEESE 1 KG\": 16,\n",
    "    \"DEENS CHADDER 140G\": 102,\n",
    "    \"DEENS CHADDER 907G\": 18,\n",
    "    \"DEENS MOZRELLA 140G\": 102,\n",
    "    \"DEENS PIZZA 400G\": 36,\n",
    "    \"DEENS SLICE 250G\": 66\n",
    "}\n",
    "   \n",
    "for ctn in range(1, 9):\n",
    "    for product, quantity in product_quantities.items():\n",
    "        df.loc[(df['Product_name'] == product) & (df['CTN'] == ctn), 'PCS'] = quantity * ctn\n",
    "    \n",
    "for ctn in range(10, 13,2):\n",
    "    for product, quantity in product_quantities.items():\n",
    "        df.loc[(df['Product_name'] == product) & (df['CTN'] == ctn), 'PCS'] = quantity * ctn"
   ]
  },
  {
   "cell_type": "code",
   "execution_count": 21,
   "metadata": {},
   "outputs": [],
   "source": [
    "def get_pcs_in_ctn(product_name):\n",
    "    if \"DEEN'S CHADDER CHEESE BLOCK 2K\" in product_name:\n",
    "        return 10  \n",
    "    elif \"DEEN'S MOZRELLA CHEESE BLOCK\" in product_name:\n",
    "        return 10\n",
    "    elif \"DEEN'S CHEDDAR 200GM\" in product_name:\n",
    "        return 72 \n",
    "    elif \"DEEN'S MOZARELLA 200GM\" in product_name:\n",
    "        return 72\n",
    "    elif \"DEEN'S PIZZA CHEESE 200GM\" in product_name:\n",
    "        return 72\n",
    "    elif \"DEEN'S SLICE CHEESE 200GM\" in product_name:\n",
    "        return 80\n",
    "    elif \"400G\" in product_name:\n",
    "        return 36\n",
    "    elif \"1 KG\" in product_name:\n",
    "        return 16\n",
    "    elif \"140G\" in product_name:\n",
    "        return 102\n",
    "    elif \"DEENS CHADDER 907G\" in product_name:\n",
    "        return 18\n",
    "    elif \"DEENS SLICE 250G\" in product_name:\n",
    "        return 66\n",
    "    else:\n",
    "        return 0  # Return 0 if the product name doesn't match any known pattern\n",
    "\n",
    "# Add a new column 'PCS_in_CTN' based on the 'Product_name' column\n",
    "df['PCS_in_CTN'] = df['Product_name'].apply(get_pcs_in_ctn)"
   ]
  },
  {
   "cell_type": "markdown",
   "metadata": {},
   "source": [
    "Create a new column called \"Price_per_CTN\" by dividing \"Orignal_price\" by \"PCS_in_CTN\""
   ]
  },
  {
   "cell_type": "code",
   "execution_count": 22,
   "metadata": {},
   "outputs": [],
   "source": [
    "df['Price_per_PCS'] = df['CTN_price'] / df['PCS_in_CTN']"
   ]
  },
  {
   "cell_type": "markdown",
   "metadata": {},
   "source": [
    "Creating a new feature 'Discount_per_piece'"
   ]
  },
  {
   "cell_type": "code",
   "execution_count": 23,
   "metadata": {},
   "outputs": [],
   "source": [
    "df['Discount_per_piece'] = df['Total_discount'] / df['PCS']"
   ]
  },
  {
   "cell_type": "markdown",
   "metadata": {},
   "source": [
    "Creating a new feature 'Month'"
   ]
  },
  {
   "cell_type": "code",
   "execution_count": 24,
   "metadata": {},
   "outputs": [],
   "source": [
    "df['Month'] = pd.DatetimeIndex(df['Date']).month"
   ]
  },
  {
   "cell_type": "code",
   "execution_count": 25,
   "metadata": {},
   "outputs": [],
   "source": [
    "df['Year'] = pd.DatetimeIndex(df['Date']).year"
   ]
  },
  {
   "cell_type": "markdown",
   "metadata": {},
   "source": [
    "Creating a new feature 'Has_Discount'"
   ]
  },
  {
   "cell_type": "code",
   "execution_count": 26,
   "metadata": {},
   "outputs": [],
   "source": [
    "df[\"Has_discount\"] = (df[\"Total_discount\"] > 0).astype(int)"
   ]
  },
  {
   "cell_type": "code",
   "execution_count": 27,
   "metadata": {},
   "outputs": [],
   "source": [
    "df[\"Product_name\"] = df[\"Product_name\"].replace('DEEN SLICE CHEESE 1 KG', \"DEEN'S SLICE CHEESE 1 KG\")"
   ]
  },
  {
   "cell_type": "markdown",
   "metadata": {},
   "source": [
    "### Define the constant purchase price values for the specified products"
   ]
  },
  {
   "cell_type": "markdown",
   "metadata": {},
   "source": [
    "start_date = \"2021-09-10\"\n",
    "\n",
    "\n",
    "end_date = \"2021-12-22\""
   ]
  },
  {
   "cell_type": "code",
   "execution_count": 28,
   "metadata": {},
   "outputs": [],
   "source": [
    "product_prices = {\n",
    "    \"DEEN'S CHADDER CHEESE BLOCK 2K\": 12282,\n",
    "    \"DEEN'S MOZRELLA CHEESE BLOCK\": 16362,\n",
    "    \"DEEN'S CHEDDAR 200GM\": 17127,\n",
    "    \"DEEN'S MOZARELLA 200GM\": 19061,\n",
    "    \"DEEN'S PIZZA CHEESE 200GM\": 20442,\n",
    "    \"DEEN'S SLICE CHEESE 200GM\": 20060,\n",
    "    \"DEEN'S CHEDDAR 400GM\": 16770,\n",
    "    \"DEEN'S MOZARELLA 400GM\": 18326,\n",
    "    \"DEEN'S SLICE CHEESE 1 KG\": 12240,\n",
    "    'w4-Dyh SLICE CHEESE 1 KG':0,\n",
    "    'DEENS CHADDER 140G':0,\n",
    "    'DEENS CHADDER 907G':0,\n",
    "    'DEENS MOZRELLA 140G':0,\n",
    "    'DEENS PIZZA 400G':0,\n",
    "    'DEENS SLICE 250G':0\n",
    "}\n",
    "start_date = \"2021-09-10\"\n",
    "end_date = \"2021-12-22\"\n",
    "\n",
    "# Create the Purchase_price column and set the constant prices for the specified products within the date range\n",
    "df[\"Purchase_price\"] = None  # Create the \"Purchase_price\" column\n",
    "\n",
    "df[\"Purchase_price\"] = df.apply(lambda row: product_prices[row[\"Product_name\"]] if (row[\"Product_name\"] in product_prices.keys() and start_date <= str(row[\"Date\"]) <= end_date) else row[\"Purchase_price\"], axis=1)\n"
   ]
  },
  {
   "cell_type": "markdown",
   "metadata": {},
   "source": [
    "start_date = \"2021-12-22\"\n",
    "\n",
    "end_date = \"2022-01-25\""
   ]
  },
  {
   "cell_type": "code",
   "execution_count": 29,
   "metadata": {},
   "outputs": [],
   "source": [
    "# Define the constant purchase price values for the specified products\n",
    "product_prices = {\n",
    "    \"DEEN'S CHADDER CHEESE BLOCK 2K\": 12282,\n",
    "    \"DEEN'S MOZRELLA CHEESE BLOCK\": 16362,\n",
    "    \"DEEN'S CHEDDAR 200GM\": 17127,\n",
    "    \"DEEN'S MOZARELLA 200GM\": 19061,\n",
    "    \"DEEN'S PIZZA CHEESE 200GM\": 20442,\n",
    "    \"DEEN'S SLICE CHEESE 200GM\": 20060,\n",
    "    \"DEEN'S CHEDDAR 400GM\": 16770,\n",
    "    \"DEEN'S MOZARELLA 400GM\": 18326,\n",
    "    \"DEEN'S SLICE CHEESE 1 KG\": 12240,\n",
    "    'w4-Dyh SLICE CHEESE 1 KG':0,\n",
    "    'DEENS CHADDER 140G':0,\n",
    "    'DEENS CHADDER 907G':0,\n",
    "    'DEENS MOZRELLA 140G':0,\n",
    "    'DEENS PIZZA 400G':0,\n",
    "    'DEENS SLICE 250G':0\n",
    "}\n",
    "\n",
    "# Define the start and end dates for the constant price period\n",
    "start_date = \"2021-12-22\"\n",
    "end_date = \"2022-01-25\"\n",
    "\n",
    "# Create the Purchase_price column and set the constant prices for the specified products within the date range\n",
    "df[\"Purchase_price\"] = df.apply(lambda row: product_prices[row[\"Product_name\"]] if (row[\"Product_name\"] in product_prices.keys() and start_date <= str(row[\"Date\"]) <= end_date) else row[\"Purchase_price\"], axis=1)\n"
   ]
  },
  {
   "cell_type": "markdown",
   "metadata": {},
   "source": [
    "start_date = \"2022-01-25\"\n",
    "\n",
    "end_date = \"2022-01-31\""
   ]
  },
  {
   "cell_type": "code",
   "execution_count": 30,
   "metadata": {},
   "outputs": [],
   "source": [
    "# Define the constant purchase price values for the specified products\n",
    "product_prices = {\n",
    "    \"DEEN'S CHEDDAR 200GM\": 18785,\n",
    "    \"DEEN'S CHEDDAR 400GM\": 19339,\n",
    "    \"DEEN'S MOZARELLA 200GM\": 20939,\n",
    "    \"DEEN'S MOZARELLA 400GM\": 21879,\n",
    "    \"DEEN'S PIZZA CHEESE 200GM\": 22486,\n",
    "    \"DEEN'S SLICE CHEESE 200GM\": 22032,\n",
    "    \"DEEN'S CHADDER CHEESE BLOCK 2K\": 13515,\n",
    "    \"DEEN'S MOZRELLA CHEESE BLOCK\": 18003,\n",
    "    \"DEEN'S SLICE CHEESE 1 KG\": 13464,\n",
    "    'w4-Dyh SLICE CHEESE 1 KG':0,\n",
    "    'DEENS CHADDER 140G':0,\n",
    "    'DEENS CHADDER 907G':0,\n",
    "    'DEENS MOZRELLA 140G':0,\n",
    "    'DEENS PIZZA 400G':0,\n",
    "    'DEENS SLICE 250G':0\n",
    "}\n",
    "\n",
    "# Define the start and end dates for the constant price period\n",
    "start_date = \"2022-01-25\"\n",
    "end_date = \"2022-01-31\"\n",
    "\n",
    "# Create the Purchase_price column and set the constant prices for the specified products within the date range\n",
    "df[\"Purchase_price\"] = df.apply(lambda row: product_prices[row[\"Product_name\"]] if (row[\"Product_name\"] in product_prices.keys() and start_date <= str(row[\"Date\"]) <= end_date) else row[\"Purchase_price\"], axis=1)\n"
   ]
  },
  {
   "cell_type": "markdown",
   "metadata": {},
   "source": [
    "start_date = \"2022-01-31\"\n",
    "\n",
    "end_date = \"2022-03-07\""
   ]
  },
  {
   "cell_type": "code",
   "execution_count": 31,
   "metadata": {},
   "outputs": [],
   "source": [
    "# Define the constant purchase price values for the specified products\n",
    "product_prices = {\n",
    "    \"DEEN'S CHEDDAR 200GM\": 18785,\n",
    "    \"DEEN'S CHEDDAR 400GM\": 19339,\n",
    "    \"DEEN'S MOZARELLA 200GM\": 20939,\n",
    "    \"DEEN'S MOZARELLA 400GM\": 21879,\n",
    "    \"DEEN'S PIZZA CHEESE 200GM\": 22486,\n",
    "    \"DEEN'S SLICE CHEESE 200GM\": 22032,\n",
    "    \"DEEN'S CHADDER CHEESE BLOCK 2K\": 13515,\n",
    "    \"DEEN'S MOZRELLA CHEESE BLOCK\": 18003,\n",
    "    \"DEEN'S SLICE CHEESE 1 KG\": 13464,\n",
    "    'w4-Dyh SLICE CHEESE 1 KG':0,\n",
    "    'DEENS CHADDER 140G':0,\n",
    "    'DEENS CHADDER 907G':0,\n",
    "    'DEENS MOZRELLA 140G':0,\n",
    "    'DEENS PIZZA 400G':0,\n",
    "    'DEENS SLICE 250G':0\n",
    "}\n",
    "\n",
    "# Define the start and end dates for the constant price period\n",
    "start_date = \"2022-01-31\"\n",
    "end_date = \"2022-03-07\"\n",
    "\n",
    "# Create the Purchase_price column and set the constant prices for the specified products within the date range\n",
    "df[\"Purchase_price\"] = df.apply(lambda row: product_prices[row[\"Product_name\"]] if (row[\"Product_name\"] in product_prices.keys() and start_date <= str(row[\"Date\"]) <= end_date) else row[\"Purchase_price\"], axis=1)\n"
   ]
  },
  {
   "cell_type": "markdown",
   "metadata": {},
   "source": [
    "start_date = \"2022-03-07\"\n",
    "\n",
    "end_date = \"2022-04-14\"\n"
   ]
  },
  {
   "cell_type": "code",
   "execution_count": 32,
   "metadata": {},
   "outputs": [],
   "source": [
    "# Define the constant purchase price values for the specified products\n",
    "product_prices = {\n",
    "    \"DEEN'S CHEDDAR 200GM\": 18785,\n",
    "    \"DEEN'S CHEDDAR 400GM\": 19339,\n",
    "    \"DEEN'S MOZARELLA 200GM\": 20939,\n",
    "    \"DEEN'S MOZARELLA 400GM\": 21879,\n",
    "    \"DEEN'S PIZZA CHEESE 200GM\": 22486,\n",
    "    \"DEEN'S SLICE CHEESE 200GM\": 22032,\n",
    "    \"DEEN'S CHADDER CHEESE BLOCK 2K\": 13515,\n",
    "    \"DEEN'S MOZRELLA CHEESE BLOCK\": 18003,\n",
    "    \"DEEN'S SLICE CHEESE 1 KG\": 13464,\n",
    "    'w4-Dyh SLICE CHEESE 1 KG':0,\n",
    "    'DEENS CHADDER 140G':0,\n",
    "    'DEENS CHADDER 907G':0,\n",
    "    'DEENS MOZRELLA 140G':0,\n",
    "    'DEENS PIZZA 400G':0,\n",
    "    'DEENS SLICE 250G':0\n",
    "}\n",
    "\n",
    "# Define the start and end dates for the constant price period\n",
    "start_date = \"2022-03-07\"\n",
    "end_date = \"2022-04-14\"\n",
    "\n",
    "# Create the Purchase_price column and set the constant prices for the specified products within the date range\n",
    "df[\"Purchase_price\"] = df.apply(lambda row: product_prices[row[\"Product_name\"]] if (row[\"Product_name\"] in product_prices.keys() and start_date <= str(row[\"Date\"]) <= end_date) else row[\"Purchase_price\"], axis=1)\n"
   ]
  },
  {
   "cell_type": "markdown",
   "metadata": {},
   "source": [
    "start_date = \"2022-04-14\"\n",
    "\n",
    "end_date = \"2022-05-30\"\n"
   ]
  },
  {
   "cell_type": "code",
   "execution_count": 33,
   "metadata": {},
   "outputs": [],
   "source": [
    "# Define the constant purchase price values for the specified products\n",
    "product_prices = {\n",
    "    \"DEEN'S CHEDDAR 200GM\": 20166,\n",
    "    \"DEEN'S CHEDDAR 400GM\": 19339,\n",
    "    \"DEEN'S MOZARELLA 200GM\": 22652,\n",
    "    \"DEEN'S MOZARELLA 400GM\": 21879,\n",
    "    \"DEEN'S PIZZA CHEESE 200GM\": 24033,\n",
    "    \"DEEN'S SLICE CHEESE 200GM\": 23800,\n",
    "    \"DEEN'S CHADDER CHEESE BLOCK 2K\": 13515,\n",
    "    \"DEEN'S MOZRELLA CHEESE BLOCK\": 18003,\n",
    "    \"DEEN'S SLICE CHEESE 1 KG\": 13464,\n",
    "    'w4-Dyh SLICE CHEESE 1 KG':0,\n",
    "    'DEENS CHADDER 140G':0,\n",
    "    'DEENS CHADDER 907G':0,\n",
    "    'DEENS MOZRELLA 140G':0,\n",
    "    'DEENS PIZZA 400G':0,\n",
    "    'DEENS SLICE 250G':0\n",
    "}\n",
    "\n",
    "# Define the start and end dates for the constant price period\n",
    "start_date = \"2022-04-14\"\n",
    "end_date = \"2022-05-30\"\n",
    "\n",
    "# Create the Purchase_price column and set the constant prices for the specified products within the date range\n",
    "df[\"Purchase_price\"] = df.apply(lambda row: product_prices[row[\"Product_name\"]] if (row[\"Product_name\"] in product_prices.keys() and start_date <= str(row[\"Date\"]) <= end_date) else row[\"Purchase_price\"], axis=1)\n"
   ]
  },
  {
   "cell_type": "markdown",
   "metadata": {},
   "source": [
    "start_date = \"2022-05-30\"\n",
    "\n",
    "end_date = \"2022-06-04"
   ]
  },
  {
   "cell_type": "code",
   "execution_count": 34,
   "metadata": {},
   "outputs": [],
   "source": [
    "# Define the constant purchase price values for the specified products\n",
    "product_prices = {\n",
    "    \"DEEN'S CHEDDAR 200GM\": 20166,\n",
    "    \"DEEN'S CHEDDAR 400GM\": 19339,\n",
    "    \"DEEN'S MOZARELLA 200GM\": 22652,\n",
    "    \"DEEN'S MOZARELLA 400GM\": 21879,\n",
    "    \"DEEN'S PIZZA CHEESE 200GM\": 24033,\n",
    "    \"DEEN'S SLICE CHEESE 200GM\": 23800,\n",
    "    \"DEEN'S CHADDER CHEESE BLOCK 2K\": 13515,\n",
    "    \"DEEN'S MOZRELLA CHEESE BLOCK\": 18003,\n",
    "    \"DEEN'S SLICE CHEESE 1 KG\": 13464,\n",
    "    'w4-Dyh SLICE CHEESE 1 KG':0,\n",
    "    'DEENS CHADDER 140G':0,\n",
    "    'DEENS CHADDER 907G':0,\n",
    "    'DEENS MOZRELLA 140G':0,\n",
    "    'DEENS PIZZA 400G':0,\n",
    "    'DEENS SLICE 250G':0\n",
    "}\n",
    "\n",
    "# Define the start and end dates for the constant price period\n",
    "start_date = \"2022-05-30\"\n",
    "end_date = \"2022-06-04\"\n",
    "\n",
    "# Create the Purchase_price column and set the constant prices for the specified products within the date range\n",
    "df[\"Purchase_price\"] = df.apply(lambda row: product_prices[row[\"Product_name\"]] if (row[\"Product_name\"] in product_prices.keys() and start_date <= str(row[\"Date\"]) <= end_date) else row[\"Purchase_price\"], axis=1)\n"
   ]
  },
  {
   "cell_type": "markdown",
   "metadata": {},
   "source": [
    "start_date = \"2022-06-04\"\n",
    "\n",
    "end_date = \"2022-06-13\""
   ]
  },
  {
   "cell_type": "code",
   "execution_count": 35,
   "metadata": {},
   "outputs": [],
   "source": [
    "# Define the constant purchase price values for the specified products\n",
    "product_prices = {\n",
    "    \"DEEN'S CHEDDAR 200GM\": 20166,\n",
    "    \"DEEN'S CHEDDAR 400GM\": 19339,\n",
    "    \"DEEN'S MOZARELLA 200GM\": 22652,\n",
    "    \"DEEN'S MOZARELLA 400GM\": 21879,\n",
    "    \"DEEN'S PIZZA CHEESE 200GM\": 24033,\n",
    "    \"DEEN'S SLICE CHEESE 200GM\": 23800,\n",
    "    \"DEEN'S CHADDER CHEESE BLOCK 2K\": 14365,\n",
    "    \"DEEN'S MOZRELLA CHEESE BLOCK\": 18853,\n",
    "    \"DEEN'S SLICE CHEESE 1 KG\": 13464,\n",
    "    'w4-Dyh SLICE CHEESE 1 KG':0,\n",
    "    'DEENS CHADDER 140G':0,\n",
    "    'DEENS CHADDER 907G':0,\n",
    "    'DEENS MOZRELLA 140G':0,\n",
    "    'DEENS PIZZA 400G':0,\n",
    "    'DEENS SLICE 250G':0\n",
    "}\n",
    "\n",
    "# Define the start and end dates for the constant price period\n",
    "start_date = \"2022-06-04\"\n",
    "end_date = \"2022-06-13\"\n",
    "\n",
    "# Create the Purchase_price column and set the constant prices for the specified products within the date range\n",
    "df[\"Purchase_price\"] = df.apply(lambda row: product_prices[row[\"Product_name\"]] if (row[\"Product_name\"] in product_prices.keys() and start_date <= str(row[\"Date\"]) <= end_date) else row[\"Purchase_price\"], axis=1)\n"
   ]
  },
  {
   "cell_type": "markdown",
   "metadata": {},
   "source": [
    "start_date = \"2022-06-13\"\n",
    "\n",
    "end_date = \"2022-06-16\""
   ]
  },
  {
   "cell_type": "code",
   "execution_count": 36,
   "metadata": {},
   "outputs": [],
   "source": [
    "# Define the constant purchase price values for the specified products\n",
    "product_prices = {\n",
    "    \"DEEN'S CHEDDAR 200GM\": 20166,\n",
    "    \"DEEN'S CHEDDAR 400GM\": 19339,\n",
    "    \"DEEN'S MOZARELLA 200GM\": 22652,\n",
    "    \"DEEN'S MOZARELLA 400GM\": 21879,\n",
    "    \"DEEN'S PIZZA CHEESE 200GM\": 24033,\n",
    "    \"DEEN'S SLICE CHEESE 200GM\": 23800,\n",
    "    \"DEEN'S CHADDER CHEESE BLOCK 2K\": 14365,\n",
    "    \"DEEN'S MOZRELLA CHEESE BLOCK\": 18853,\n",
    "    \"DEEN'S SLICE CHEESE 1 KG\": 13464,\n",
    "    'w4-Dyh SLICE CHEESE 1 KG':0,\n",
    "    'DEENS CHADDER 140G':0,\n",
    "    'DEENS CHADDER 907G':0,\n",
    "    'DEENS MOZRELLA 140G':0,\n",
    "    'DEENS PIZZA 400G':0,\n",
    "    'DEENS SLICE 250G':0\n",
    "}\n",
    "\n",
    "# Define the start and end dates for the constant price period\n",
    "start_date = \"2022-06-13\"\n",
    "end_date = \"2022-06-16\"\n",
    "\n",
    "# Create the Purchase_price column and set the constant prices for the specified products within the date range\n",
    "df[\"Purchase_price\"] = df.apply(lambda row: product_prices[row[\"Product_name\"]] if (row[\"Product_name\"] in product_prices.keys() and start_date <= str(row[\"Date\"]) <= end_date) else row[\"Purchase_price\"], axis=1)\n"
   ]
  },
  {
   "cell_type": "markdown",
   "metadata": {},
   "source": [
    "start_date = \"2022-06-16\"\n",
    "\n",
    "end_date = \"2022-07-06\""
   ]
  },
  {
   "cell_type": "code",
   "execution_count": 37,
   "metadata": {},
   "outputs": [],
   "source": [
    "# Define the constant purchase price values for the specified products\n",
    "product_prices = {\n",
    "    \"DEEN'S CHEDDAR 200GM\": 22431,\n",
    "    \"DEEN'S CHEDDAR 400GM\": 23011,\n",
    "    \"DEEN'S MOZARELLA 200GM\": 24917,\n",
    "    \"DEEN'S MOZARELLA 400GM\": 26010,\n",
    "    \"DEEN'S PIZZA CHEESE 200GM\": 26741,\n",
    "    \"DEEN'S SLICE CHEESE 200GM\": 26248,\n",
    "    \"DEEN'S CHADDER CHEESE BLOCK 2K\": 20300,\n",
    "    \"DEEN'S MOZRELLA CHEESE BLOCK\": 23270,\n",
    "    \"DEEN'S SLICE CHEESE 1 KG\": 15840,\n",
    "    'w4-Dyh SLICE CHEESE 1 KG':0,\n",
    "    'DEENS CHADDER 140G':0,\n",
    "    'DEENS CHADDER 907G':0,\n",
    "    'DEENS MOZRELLA 140G':0,\n",
    "    'DEENS PIZZA 400G':0,\n",
    "    'DEENS SLICE 250G':0\n",
    "}\n",
    "\n",
    "# Define the start and end dates for the constant price period\n",
    "start_date = \"2022-06-16\"\n",
    "end_date = \"2022-07-06\"\n",
    "\n",
    "# Create the Purchase_price column and set the constant prices for the specified products within the date range\n",
    "df[\"Purchase_price\"] = df.apply(lambda row: product_prices[row[\"Product_name\"]] if (row[\"Product_name\"] in product_prices.keys() and start_date <= str(row[\"Date\"]) <= end_date) else row[\"Purchase_price\"], axis=1)\n"
   ]
  },
  {
   "cell_type": "markdown",
   "metadata": {},
   "source": [
    "start_date = \"2022-07-06\"\n",
    "\n",
    "end_date = \"2022-07-14\""
   ]
  },
  {
   "cell_type": "code",
   "execution_count": 38,
   "metadata": {},
   "outputs": [],
   "source": [
    "# Define the constant purchase price values for the specified products\n",
    "product_prices = {\n",
    "    \"DEEN'S CHEDDAR 200GM\": 21845,\n",
    "    \"DEEN'S CHEDDAR 400GM\": 22440,\n",
    "    \"DEEN'S MOZARELLA 200GM\": 24312,\n",
    "    \"DEEN'S MOZARELLA 400GM\": 25317,\n",
    "    \"DEEN'S PIZZA CHEESE 200GM\": 26072,\n",
    "    \"DEEN'S SLICE CHEESE 200GM\": 24487,\n",
    "    \"DEEN'S CHADDER CHEESE BLOCK 2K\": 20300,\n",
    "    \"DEEN'S MOZRELLA CHEESE BLOCK\": 23270,\n",
    "    \"DEEN'S SLICE CHEESE 1 KG\": 15840,\n",
    "    'w4-Dyh SLICE CHEESE 1 KG':0,\n",
    "    'DEENS CHADDER 140G':0,\n",
    "    'DEENS CHADDER 907G':0,\n",
    "    'DEENS MOZRELLA 140G':0,\n",
    "    'DEENS PIZZA 400G':0,\n",
    "    'DEENS SLICE 250G':0\n",
    "}\n",
    "\n",
    "# Define the start and end dates for the constant price period\n",
    "start_date = \"2022-07-06\"\n",
    "end_date = \"2022-07-14\"\n",
    "\n",
    "# Create the Purchase_price column and set the constant prices for the specified products within the date range\n",
    "df[\"Purchase_price\"] = df.apply(lambda row: product_prices[row[\"Product_name\"]] if (row[\"Product_name\"] in product_prices.keys() and start_date <= str(row[\"Date\"]) <= end_date) else row[\"Purchase_price\"], axis=1)\n"
   ]
  },
  {
   "cell_type": "markdown",
   "metadata": {},
   "source": [
    "start_date = \"2022-07-14\"\n",
    "\n",
    "end_date = \"2022-11-04\""
   ]
  },
  {
   "cell_type": "code",
   "execution_count": 39,
   "metadata": {},
   "outputs": [],
   "source": [
    "# Define the constant purchase price values for the specified products\n",
    "product_prices = {\n",
    "    \"DEEN'S CHEDDAR 200GM\": 21845,\n",
    "    \"DEEN'S CHEDDAR 400GM\": 22440,\n",
    "    \"DEEN'S MOZARELLA 200GM\": 24312,\n",
    "    \"DEEN'S MOZARELLA 400GM\": 25317,\n",
    "    \"DEEN'S PIZZA CHEESE 200GM\": 26072,\n",
    "    \"DEEN'S SLICE CHEESE 200GM\": 24487,\n",
    "    \"DEEN'S CHADDER CHEESE BLOCK 2K\": 20300,\n",
    "    \"DEEN'S MOZRELLA CHEESE BLOCK\": 23270,\n",
    "    \"DEEN'S SLICE CHEESE 1 KG\": 15840,\n",
    "    'w4-Dyh SLICE CHEESE 1 KG':0,\n",
    "    'DEENS CHADDER 140G':0,\n",
    "    'DEENS CHADDER 907G':0,\n",
    "    'DEENS MOZRELLA 140G':0,\n",
    "    'DEENS PIZZA 400G':0,\n",
    "    'DEENS SLICE 250G':0\n",
    "}\n",
    "\n",
    "# Define the start and end dates for the constant price period\n",
    "start_date = \"2022-07-14\"\n",
    "end_date = \"2022-11-04\"\n",
    "\n",
    "# Create the Purchase_price column and set the constant prices for the specified products within the date range\n",
    "df[\"Purchase_price\"] = df.apply(lambda row: product_prices[row[\"Product_name\"]] if (row[\"Product_name\"] in product_prices.keys() and start_date <= str(row[\"Date\"]) <= end_date) else row[\"Purchase_price\"], axis=1)\n"
   ]
  },
  {
   "cell_type": "markdown",
   "metadata": {},
   "source": [
    "start_date = \"2022-11-04\"\n",
    "\n",
    "end_date = \"2022-12-04\""
   ]
  },
  {
   "cell_type": "code",
   "execution_count": 40,
   "metadata": {},
   "outputs": [],
   "source": [
    "# Define the constant purchase price values for the specified products\n",
    "product_prices = {\n",
    "    \"DEEN'S CHEDDAR 200GM\": 24840,\n",
    "    \"DEEN'S CHEDDAR 400GM\": 22440,\n",
    "    \"DEEN'S MOZARELLA 200GM\": 24895,\n",
    "    \"DEEN'S MOZARELLA 400GM\": 25371,\n",
    "    \"DEEN'S PIZZA CHEESE 200GM\": 29592,\n",
    "    \"DEEN'S SLICE CHEESE 200GM\": 26240,\n",
    "    \"DEEN'S CHADDER CHEESE BLOCK 2K\": 20128,\n",
    "    \"DEEN'S MOZRELLA CHEESE BLOCK\": 23069,\n",
    "    \"DEEN'S SLICE CHEESE 1 KG\": 15840,\n",
    "    'w4-Dyh SLICE CHEESE 1 KG':0,\n",
    "    'DEENS CHADDER 140G':0,\n",
    "    'DEENS CHADDER 907G':0,\n",
    "    'DEENS MOZRELLA 140G':0,\n",
    "    'DEENS PIZZA 400G':0,\n",
    "    'DEENS SLICE 250G':0\n",
    "    \n",
    "}\n",
    "\n",
    "# Define the start and end dates for the constant price period\n",
    "start_date = \"2022-11-04\"\n",
    "end_date = \"2022-12-04\"\n",
    "\n",
    "# Create the Purchase_price column and set the constant prices for the specified products within the date range\n",
    "df[\"Purchase_price\"] = df.apply(lambda row: product_prices[row[\"Product_name\"]] if (row[\"Product_name\"] in product_prices.keys() and start_date <= str(row[\"Date\"]) <= end_date) else row[\"Purchase_price\"], axis=1)\n"
   ]
  },
  {
   "cell_type": "code",
   "execution_count": 41,
   "metadata": {},
   "outputs": [],
   "source": [
    "df[\"Profit_per_order\"] = df[\"Net_value\"] - df[\"Purchase_price\"]\n",
    "df[\"Profit_per_order\"] = (df[\"Purchase_price\"] / df[\"PCS_in_CTN\"]) * df[\"PCS\"]\n",
    "df[\"Profit_per_order\"] = df[\"Net_value\"] - df[\"Profit_per_order\"]"
   ]
  },
  {
   "cell_type": "code",
   "execution_count": 42,
   "metadata": {},
   "outputs": [
    {
     "data": {
      "text/plain": [
       "Product_name\n",
       "DEEN'S MOZARELLA 200GM            1332\n",
       "DEEN'S SLICE CHEESE 200GM         1208\n",
       "DEEN'S CHEDDAR 200GM              1128\n",
       "DEEN'S CHADDER CHEESE BLOCK 2K    1114\n",
       "DEEN'S MOZRELLA CHEESE BLOCK       971\n",
       "DEEN'S PIZZA CHEESE 200GM          818\n",
       "DEEN'S SLICE CHEESE 1 KG           274\n",
       "DEENS SLICE 250G                    57\n",
       "DEEN'S MOZARELLA 400GM              55\n",
       "DEEN'S CHEDDAR 400GM                44\n",
       "DEENS MOZRELLA 140G                 10\n",
       "DEENS CHADDER 140G                   7\n",
       "DEENS CHADDER 907G                   2\n",
       "DEENS PIZZA 400G                     2\n",
       "w4-Dyh SLICE CHEESE 1 KG             1\n",
       "Name: count, dtype: int64"
      ]
     },
     "execution_count": 42,
     "metadata": {},
     "output_type": "execute_result"
    }
   ],
   "source": [
    "df[\"Product_name\"].value_counts()"
   ]
  },
  {
   "cell_type": "code",
   "execution_count": 43,
   "metadata": {},
   "outputs": [],
   "source": [
    "df[\"Price_per_PCS\"] = df[\"Price_per_PCS\"].astype(\"int64\")\n",
    "df[\"Discount_per_piece\"] = df[\"Discount_per_piece\"].astype(\"int64\")\n",
    "df[\"Has_discount\"] = df[\"Has_discount\"].astype(\"int64\")\n",
    "df[\"Net_value\"] = df[\"Net_value\"].astype(\"int64\")\n",
    "df[\"Purchase_price\"] = df[\"Purchase_price\"].astype(\"int64\")\n",
    "df[\"Profit_per_order\"] = df[\"Profit_per_order\"].astype(\"int64\")"
   ]
  },
  {
   "cell_type": "code",
   "execution_count": 44,
   "metadata": {},
   "outputs": [
    {
     "name": "stdout",
     "output_type": "stream",
     "text": [
      "<class 'pandas.core.frame.DataFrame'>\n",
      "Index: 7023 entries, 0 to 7294\n",
      "Data columns (total 19 columns):\n",
      " #   Column              Non-Null Count  Dtype         \n",
      "---  ------              --------------  -----         \n",
      " 0   Date                7023 non-null   datetime64[ns]\n",
      " 1   C_id                7023 non-null   int64         \n",
      " 2   Customer_name       7023 non-null   object        \n",
      " 3   Customer_address    7023 non-null   object        \n",
      " 4   I_code              7023 non-null   int64         \n",
      " 5   Product_name        7023 non-null   object        \n",
      " 6   CTN_price           7023 non-null   int64         \n",
      " 7   CTN                 7023 non-null   int64         \n",
      " 8   PCS                 7023 non-null   int64         \n",
      " 9   Total_discount      7023 non-null   int64         \n",
      " 10  Net_value           7023 non-null   int64         \n",
      " 11  PCS_in_CTN          7023 non-null   int64         \n",
      " 12  Price_per_PCS       7023 non-null   int64         \n",
      " 13  Discount_per_piece  7023 non-null   int64         \n",
      " 14  Month               7023 non-null   int32         \n",
      " 15  Year                7023 non-null   int32         \n",
      " 16  Has_discount        7023 non-null   int64         \n",
      " 17  Purchase_price      7023 non-null   int64         \n",
      " 18  Profit_per_order    7023 non-null   int64         \n",
      "dtypes: datetime64[ns](1), int32(2), int64(13), object(3)\n",
      "memory usage: 1.0+ MB\n"
     ]
    }
   ],
   "source": [
    "df.info()"
   ]
  },
  {
   "cell_type": "markdown",
   "metadata": {},
   "source": [
    "### Get insights from data"
   ]
  },
  {
   "cell_type": "markdown",
   "metadata": {},
   "source": [
    "Identify the top-selling products"
   ]
  },
  {
   "cell_type": "code",
   "execution_count": 45,
   "metadata": {},
   "outputs": [
    {
     "data": {
      "text/html": [
       "<div>\n",
       "<style scoped>\n",
       "    .dataframe tbody tr th:only-of-type {\n",
       "        vertical-align: middle;\n",
       "    }\n",
       "\n",
       "    .dataframe tbody tr th {\n",
       "        vertical-align: top;\n",
       "    }\n",
       "\n",
       "    .dataframe thead th {\n",
       "        text-align: right;\n",
       "    }\n",
       "</style>\n",
       "<table border=\"1\" class=\"dataframe\">\n",
       "  <thead>\n",
       "    <tr style=\"text-align: right;\">\n",
       "      <th></th>\n",
       "      <th>I_code</th>\n",
       "      <th>Product_name</th>\n",
       "      <th>PCS</th>\n",
       "    </tr>\n",
       "  </thead>\n",
       "  <tbody>\n",
       "    <tr>\n",
       "      <th>6</th>\n",
       "      <td>1770</td>\n",
       "      <td>DEEN'S CHADDER CHEESE BLOCK 2K</td>\n",
       "      <td>9020</td>\n",
       "    </tr>\n",
       "    <tr>\n",
       "      <th>2</th>\n",
       "      <td>1760</td>\n",
       "      <td>DEEN'S MOZARELLA 200GM</td>\n",
       "      <td>5424</td>\n",
       "    </tr>\n",
       "    <tr>\n",
       "      <th>5</th>\n",
       "      <td>1763</td>\n",
       "      <td>DEEN'S SLICE CHEESE 200GM</td>\n",
       "      <td>5000</td>\n",
       "    </tr>\n",
       "    <tr>\n",
       "      <th>7</th>\n",
       "      <td>1771</td>\n",
       "      <td>DEEN'S MOZRELLA CHEESE BLOCK</td>\n",
       "      <td>4830</td>\n",
       "    </tr>\n",
       "    <tr>\n",
       "      <th>0</th>\n",
       "      <td>1758</td>\n",
       "      <td>DEEN'S CHEDDAR 200GM</td>\n",
       "      <td>4073</td>\n",
       "    </tr>\n",
       "    <tr>\n",
       "      <th>4</th>\n",
       "      <td>1762</td>\n",
       "      <td>DEEN'S PIZZA CHEESE 200GM</td>\n",
       "      <td>2693</td>\n",
       "    </tr>\n",
       "    <tr>\n",
       "      <th>8</th>\n",
       "      <td>1772</td>\n",
       "      <td>DEEN'S SLICE CHEESE 1 KG</td>\n",
       "      <td>684</td>\n",
       "    </tr>\n",
       "    <tr>\n",
       "      <th>10</th>\n",
       "      <td>1784</td>\n",
       "      <td>DEENS SLICE 250G</td>\n",
       "      <td>337</td>\n",
       "    </tr>\n",
       "    <tr>\n",
       "      <th>1</th>\n",
       "      <td>1759</td>\n",
       "      <td>DEEN'S CHEDDAR 400GM</td>\n",
       "      <td>312</td>\n",
       "    </tr>\n",
       "    <tr>\n",
       "      <th>3</th>\n",
       "      <td>1761</td>\n",
       "      <td>DEEN'S MOZARELLA 400GM</td>\n",
       "      <td>246</td>\n",
       "    </tr>\n",
       "  </tbody>\n",
       "</table>\n",
       "</div>"
      ],
      "text/plain": [
       "    I_code                    Product_name   PCS\n",
       "6     1770  DEEN'S CHADDER CHEESE BLOCK 2K  9020\n",
       "2     1760          DEEN'S MOZARELLA 200GM  5424\n",
       "5     1763       DEEN'S SLICE CHEESE 200GM  5000\n",
       "7     1771    DEEN'S MOZRELLA CHEESE BLOCK  4830\n",
       "0     1758            DEEN'S CHEDDAR 200GM  4073\n",
       "4     1762       DEEN'S PIZZA CHEESE 200GM  2693\n",
       "8     1772        DEEN'S SLICE CHEESE 1 KG   684\n",
       "10    1784                DEENS SLICE 250G   337\n",
       "1     1759            DEEN'S CHEDDAR 400GM   312\n",
       "3     1761          DEEN'S MOZARELLA 400GM   246"
      ]
     },
     "execution_count": 45,
     "metadata": {},
     "output_type": "execute_result"
    }
   ],
   "source": [
    "top_products = df.groupby(['I_code', 'Product_name'])['PCS'].sum().reset_index().sort_values('PCS', ascending=False).head(10)\n",
    "top_products"
   ]
  },
  {
   "cell_type": "markdown",
   "metadata": {},
   "source": [
    "#Analyze the discounts"
   ]
  },
  {
   "cell_type": "code",
   "execution_count": 46,
   "metadata": {},
   "outputs": [
    {
     "data": {
      "text/html": [
       "<div>\n",
       "<style scoped>\n",
       "    .dataframe tbody tr th:only-of-type {\n",
       "        vertical-align: middle;\n",
       "    }\n",
       "\n",
       "    .dataframe tbody tr th {\n",
       "        vertical-align: top;\n",
       "    }\n",
       "\n",
       "    .dataframe thead th {\n",
       "        text-align: right;\n",
       "    }\n",
       "</style>\n",
       "<table border=\"1\" class=\"dataframe\">\n",
       "  <thead>\n",
       "    <tr style=\"text-align: right;\">\n",
       "      <th></th>\n",
       "      <th>Product_name</th>\n",
       "      <th>Total_discount</th>\n",
       "      <th>Net_value</th>\n",
       "      <th>PCS</th>\n",
       "    </tr>\n",
       "  </thead>\n",
       "  <tbody>\n",
       "    <tr>\n",
       "      <th>0</th>\n",
       "      <td>DEEN'S CHADDER CHEESE BLOCK 2K</td>\n",
       "      <td>608.484740</td>\n",
       "      <td>15087.789946</td>\n",
       "      <td>9020</td>\n",
       "    </tr>\n",
       "    <tr>\n",
       "      <th>1</th>\n",
       "      <td>DEEN'S CHEDDAR 200GM</td>\n",
       "      <td>17.747340</td>\n",
       "      <td>1288.093972</td>\n",
       "      <td>4073</td>\n",
       "    </tr>\n",
       "    <tr>\n",
       "      <th>2</th>\n",
       "      <td>DEEN'S CHEDDAR 400GM</td>\n",
       "      <td>464.909091</td>\n",
       "      <td>4375.272727</td>\n",
       "      <td>312</td>\n",
       "    </tr>\n",
       "    <tr>\n",
       "      <th>3</th>\n",
       "      <td>DEEN'S MOZARELLA 200GM</td>\n",
       "      <td>28.720721</td>\n",
       "      <td>1616.367117</td>\n",
       "      <td>5424</td>\n",
       "    </tr>\n",
       "    <tr>\n",
       "      <th>4</th>\n",
       "      <td>DEEN'S MOZARELLA 400GM</td>\n",
       "      <td>100.872727</td>\n",
       "      <td>3260.218182</td>\n",
       "      <td>246</td>\n",
       "    </tr>\n",
       "    <tr>\n",
       "      <th>5</th>\n",
       "      <td>DEEN'S MOZRELLA CHEESE BLOCK</td>\n",
       "      <td>465.107106</td>\n",
       "      <td>10866.084449</td>\n",
       "      <td>4830</td>\n",
       "    </tr>\n",
       "    <tr>\n",
       "      <th>6</th>\n",
       "      <td>DEEN'S PIZZA CHEESE 200GM</td>\n",
       "      <td>20.908313</td>\n",
       "      <td>1393.641809</td>\n",
       "      <td>2693</td>\n",
       "    </tr>\n",
       "    <tr>\n",
       "      <th>7</th>\n",
       "      <td>DEEN'S SLICE CHEESE 1 KG</td>\n",
       "      <td>42.518248</td>\n",
       "      <td>2441.021898</td>\n",
       "      <td>684</td>\n",
       "    </tr>\n",
       "    <tr>\n",
       "      <th>8</th>\n",
       "      <td>DEEN'S SLICE CHEESE 200GM</td>\n",
       "      <td>19.701987</td>\n",
       "      <td>1395.638245</td>\n",
       "      <td>5000</td>\n",
       "    </tr>\n",
       "    <tr>\n",
       "      <th>9</th>\n",
       "      <td>DEENS CHADDER 140G</td>\n",
       "      <td>0.000000</td>\n",
       "      <td>5087.428571</td>\n",
       "      <td>116</td>\n",
       "    </tr>\n",
       "    <tr>\n",
       "      <th>10</th>\n",
       "      <td>DEENS CHADDER 907G</td>\n",
       "      <td>0.000000</td>\n",
       "      <td>24372.000000</td>\n",
       "      <td>36</td>\n",
       "    </tr>\n",
       "    <tr>\n",
       "      <th>11</th>\n",
       "      <td>DEENS MOZRELLA 140G</td>\n",
       "      <td>0.000000</td>\n",
       "      <td>7977.800000</td>\n",
       "      <td>226</td>\n",
       "    </tr>\n",
       "    <tr>\n",
       "      <th>12</th>\n",
       "      <td>DEENS PIZZA 400G</td>\n",
       "      <td>0.000000</td>\n",
       "      <td>33660.000000</td>\n",
       "      <td>72</td>\n",
       "    </tr>\n",
       "    <tr>\n",
       "      <th>13</th>\n",
       "      <td>DEENS SLICE 250G</td>\n",
       "      <td>0.000000</td>\n",
       "      <td>2518.631579</td>\n",
       "      <td>337</td>\n",
       "    </tr>\n",
       "    <tr>\n",
       "      <th>14</th>\n",
       "      <td>w4-Dyh SLICE CHEESE 1 KG</td>\n",
       "      <td>90.000000</td>\n",
       "      <td>2880.000000</td>\n",
       "      <td>3</td>\n",
       "    </tr>\n",
       "  </tbody>\n",
       "</table>\n",
       "</div>"
      ],
      "text/plain": [
       "                      Product_name  Total_discount     Net_value   PCS\n",
       "0   DEEN'S CHADDER CHEESE BLOCK 2K      608.484740  15087.789946  9020\n",
       "1             DEEN'S CHEDDAR 200GM       17.747340   1288.093972  4073\n",
       "2             DEEN'S CHEDDAR 400GM      464.909091   4375.272727   312\n",
       "3           DEEN'S MOZARELLA 200GM       28.720721   1616.367117  5424\n",
       "4           DEEN'S MOZARELLA 400GM      100.872727   3260.218182   246\n",
       "5     DEEN'S MOZRELLA CHEESE BLOCK      465.107106  10866.084449  4830\n",
       "6        DEEN'S PIZZA CHEESE 200GM       20.908313   1393.641809  2693\n",
       "7         DEEN'S SLICE CHEESE 1 KG       42.518248   2441.021898   684\n",
       "8        DEEN'S SLICE CHEESE 200GM       19.701987   1395.638245  5000\n",
       "9               DEENS CHADDER 140G        0.000000   5087.428571   116\n",
       "10              DEENS CHADDER 907G        0.000000  24372.000000    36\n",
       "11             DEENS MOZRELLA 140G        0.000000   7977.800000   226\n",
       "12                DEENS PIZZA 400G        0.000000  33660.000000    72\n",
       "13                DEENS SLICE 250G        0.000000   2518.631579   337\n",
       "14        w4-Dyh SLICE CHEESE 1 KG       90.000000   2880.000000     3"
      ]
     },
     "execution_count": 46,
     "metadata": {},
     "output_type": "execute_result"
    }
   ],
   "source": [
    "discount_analysis = df.groupby('Product_name').agg({'Total_discount': 'mean', 'Net_value': 'mean', 'PCS': 'sum'}).reset_index()\n",
    "discount_analysis"
   ]
  },
  {
   "cell_type": "markdown",
   "metadata": {},
   "source": [
    "Identify the most profitable customers"
   ]
  },
  {
   "cell_type": "code",
   "execution_count": 47,
   "metadata": {},
   "outputs": [
    {
     "data": {
      "text/html": [
       "<div>\n",
       "<style scoped>\n",
       "    .dataframe tbody tr th:only-of-type {\n",
       "        vertical-align: middle;\n",
       "    }\n",
       "\n",
       "    .dataframe tbody tr th {\n",
       "        vertical-align: top;\n",
       "    }\n",
       "\n",
       "    .dataframe thead th {\n",
       "        text-align: right;\n",
       "    }\n",
       "</style>\n",
       "<table border=\"1\" class=\"dataframe\">\n",
       "  <thead>\n",
       "    <tr style=\"text-align: right;\">\n",
       "      <th></th>\n",
       "      <th>Customer_name</th>\n",
       "      <th>Customer_address</th>\n",
       "      <th>Net_value</th>\n",
       "      <th>PCS</th>\n",
       "    </tr>\n",
       "  </thead>\n",
       "  <tbody>\n",
       "    <tr>\n",
       "      <th>41</th>\n",
       "      <td>CHIEF BURGER</td>\n",
       "      <td>UNIVERSITY ROAD</td>\n",
       "      <td>13830755</td>\n",
       "      <td>6763</td>\n",
       "    </tr>\n",
       "    <tr>\n",
       "      <th>95</th>\n",
       "      <td>JAN'S DAILY</td>\n",
       "      <td>TOWN</td>\n",
       "      <td>2953450</td>\n",
       "      <td>1550</td>\n",
       "    </tr>\n",
       "    <tr>\n",
       "      <th>145</th>\n",
       "      <td>PIZZA FLAME</td>\n",
       "      <td>IBRAHIM MARKET</td>\n",
       "      <td>2152055</td>\n",
       "      <td>1254</td>\n",
       "    </tr>\n",
       "    <tr>\n",
       "      <th>85</th>\n",
       "      <td>IMTIAZ SUPER STORE</td>\n",
       "      <td>RING ROAD</td>\n",
       "      <td>693975</td>\n",
       "      <td>1097</td>\n",
       "    </tr>\n",
       "    <tr>\n",
       "      <th>9</th>\n",
       "      <td>AL HAMRA SUPER STORE</td>\n",
       "      <td>DILZAQ ROAD</td>\n",
       "      <td>320531</td>\n",
       "      <td>887</td>\n",
       "    </tr>\n",
       "    <tr>\n",
       "      <th>18</th>\n",
       "      <td>ARYANA S/S</td>\n",
       "      <td>Nawab Market</td>\n",
       "      <td>312446</td>\n",
       "      <td>811</td>\n",
       "    </tr>\n",
       "    <tr>\n",
       "      <th>70</th>\n",
       "      <td>H.B.K Hypermarket (Pvt.) Ltd.</td>\n",
       "      <td>ring road</td>\n",
       "      <td>376621</td>\n",
       "      <td>744</td>\n",
       "    </tr>\n",
       "    <tr>\n",
       "      <th>177</th>\n",
       "      <td>SNACK FOOD CAFE</td>\n",
       "      <td>ZANGAL MARKET</td>\n",
       "      <td>1034831</td>\n",
       "      <td>598</td>\n",
       "    </tr>\n",
       "    <tr>\n",
       "      <th>185</th>\n",
       "      <td>TOP TOWN</td>\n",
       "      <td>TORANGZAI MARKET HAYATBAD</td>\n",
       "      <td>192666</td>\n",
       "      <td>531</td>\n",
       "    </tr>\n",
       "    <tr>\n",
       "      <th>55</th>\n",
       "      <td>FAISAL STORE</td>\n",
       "      <td>Yousaf Zai Market</td>\n",
       "      <td>190583</td>\n",
       "      <td>510</td>\n",
       "    </tr>\n",
       "  </tbody>\n",
       "</table>\n",
       "</div>"
      ],
      "text/plain": [
       "                     Customer_name           Customer_address  Net_value   PCS\n",
       "41                    CHIEF BURGER            UNIVERSITY ROAD   13830755  6763\n",
       "95                     JAN'S DAILY                       TOWN    2953450  1550\n",
       "145                    PIZZA FLAME             IBRAHIM MARKET    2152055  1254\n",
       "85              IMTIAZ SUPER STORE                  RING ROAD     693975  1097\n",
       "9             AL HAMRA SUPER STORE                DILZAQ ROAD     320531   887\n",
       "18                      ARYANA S/S               Nawab Market     312446   811\n",
       "70   H.B.K Hypermarket (Pvt.) Ltd.                  ring road     376621   744\n",
       "177                SNACK FOOD CAFE              ZANGAL MARKET    1034831   598\n",
       "185                       TOP TOWN  TORANGZAI MARKET HAYATBAD     192666   531\n",
       "55                    FAISAL STORE          Yousaf Zai Market     190583   510"
      ]
     },
     "execution_count": 47,
     "metadata": {},
     "output_type": "execute_result"
    }
   ],
   "source": [
    "top_customers = df.groupby(['Customer_name', 'Customer_address'])[['Net_value', 'PCS']].sum().reset_index().sort_values('PCS', ascending=False).head(10)\n",
    "top_customers"
   ]
  },
  {
   "cell_type": "markdown",
   "metadata": {},
   "source": [
    "Analyze the pricing strategy"
   ]
  },
  {
   "cell_type": "code",
   "execution_count": 48,
   "metadata": {},
   "outputs": [
    {
     "data": {
      "text/html": [
       "<div>\n",
       "<style scoped>\n",
       "    .dataframe tbody tr th:only-of-type {\n",
       "        vertical-align: middle;\n",
       "    }\n",
       "\n",
       "    .dataframe tbody tr th {\n",
       "        vertical-align: top;\n",
       "    }\n",
       "\n",
       "    .dataframe thead th {\n",
       "        text-align: right;\n",
       "    }\n",
       "</style>\n",
       "<table border=\"1\" class=\"dataframe\">\n",
       "  <thead>\n",
       "    <tr style=\"text-align: right;\">\n",
       "      <th></th>\n",
       "      <th>Product_name</th>\n",
       "      <th>CTN_price</th>\n",
       "      <th>Net_value</th>\n",
       "      <th>PCS</th>\n",
       "    </tr>\n",
       "  </thead>\n",
       "  <tbody>\n",
       "    <tr>\n",
       "      <th>0</th>\n",
       "      <td>DEEN'S CHADDER CHEESE BLOCK 2K</td>\n",
       "      <td>17523.339318</td>\n",
       "      <td>15087.789946</td>\n",
       "      <td>9020</td>\n",
       "    </tr>\n",
       "    <tr>\n",
       "      <th>1</th>\n",
       "      <td>DEEN'S CHEDDAR 200GM</td>\n",
       "      <td>23530.681738</td>\n",
       "      <td>1288.093972</td>\n",
       "      <td>4073</td>\n",
       "    </tr>\n",
       "    <tr>\n",
       "      <th>2</th>\n",
       "      <td>DEEN'S CHEDDAR 400GM</td>\n",
       "      <td>23134.090909</td>\n",
       "      <td>4375.272727</td>\n",
       "      <td>312</td>\n",
       "    </tr>\n",
       "    <tr>\n",
       "      <th>3</th>\n",
       "      <td>DEEN'S MOZARELLA 200GM</td>\n",
       "      <td>26286.412913</td>\n",
       "      <td>1616.367117</td>\n",
       "      <td>5424</td>\n",
       "    </tr>\n",
       "    <tr>\n",
       "      <th>4</th>\n",
       "      <td>DEEN'S MOZARELLA 400GM</td>\n",
       "      <td>26158.909091</td>\n",
       "      <td>3260.218182</td>\n",
       "      <td>246</td>\n",
       "    </tr>\n",
       "    <tr>\n",
       "      <th>5</th>\n",
       "      <td>DEEN'S MOZRELLA CHEESE BLOCK</td>\n",
       "      <td>22023.233780</td>\n",
       "      <td>10866.084449</td>\n",
       "      <td>4830</td>\n",
       "    </tr>\n",
       "    <tr>\n",
       "      <th>6</th>\n",
       "      <td>DEEN'S PIZZA CHEESE 200GM</td>\n",
       "      <td>28055.408313</td>\n",
       "      <td>1393.641809</td>\n",
       "      <td>2693</td>\n",
       "    </tr>\n",
       "    <tr>\n",
       "      <th>7</th>\n",
       "      <td>DEEN'S SLICE CHEESE 1 KG</td>\n",
       "      <td>15872.116788</td>\n",
       "      <td>2441.021898</td>\n",
       "      <td>684</td>\n",
       "    </tr>\n",
       "    <tr>\n",
       "      <th>8</th>\n",
       "      <td>DEEN'S SLICE CHEESE 200GM</td>\n",
       "      <td>27251.192053</td>\n",
       "      <td>1395.638245</td>\n",
       "      <td>5000</td>\n",
       "    </tr>\n",
       "    <tr>\n",
       "      <th>9</th>\n",
       "      <td>DEENS CHADDER 140G</td>\n",
       "      <td>31314.000000</td>\n",
       "      <td>5087.428571</td>\n",
       "      <td>116</td>\n",
       "    </tr>\n",
       "    <tr>\n",
       "      <th>10</th>\n",
       "      <td>DEENS CHADDER 907G</td>\n",
       "      <td>24372.000000</td>\n",
       "      <td>24372.000000</td>\n",
       "      <td>36</td>\n",
       "    </tr>\n",
       "    <tr>\n",
       "      <th>11</th>\n",
       "      <td>DEENS MOZRELLA 140G</td>\n",
       "      <td>36006.000000</td>\n",
       "      <td>7977.800000</td>\n",
       "      <td>226</td>\n",
       "    </tr>\n",
       "    <tr>\n",
       "      <th>12</th>\n",
       "      <td>DEENS PIZZA 400G</td>\n",
       "      <td>33660.000000</td>\n",
       "      <td>33660.000000</td>\n",
       "      <td>72</td>\n",
       "    </tr>\n",
       "    <tr>\n",
       "      <th>13</th>\n",
       "      <td>DEENS SLICE 250G</td>\n",
       "      <td>28116.000000</td>\n",
       "      <td>2518.631579</td>\n",
       "      <td>337</td>\n",
       "    </tr>\n",
       "    <tr>\n",
       "      <th>14</th>\n",
       "      <td>w4-Dyh SLICE CHEESE 1 KG</td>\n",
       "      <td>15840.000000</td>\n",
       "      <td>2880.000000</td>\n",
       "      <td>3</td>\n",
       "    </tr>\n",
       "  </tbody>\n",
       "</table>\n",
       "</div>"
      ],
      "text/plain": [
       "                      Product_name     CTN_price     Net_value   PCS\n",
       "0   DEEN'S CHADDER CHEESE BLOCK 2K  17523.339318  15087.789946  9020\n",
       "1             DEEN'S CHEDDAR 200GM  23530.681738   1288.093972  4073\n",
       "2             DEEN'S CHEDDAR 400GM  23134.090909   4375.272727   312\n",
       "3           DEEN'S MOZARELLA 200GM  26286.412913   1616.367117  5424\n",
       "4           DEEN'S MOZARELLA 400GM  26158.909091   3260.218182   246\n",
       "5     DEEN'S MOZRELLA CHEESE BLOCK  22023.233780  10866.084449  4830\n",
       "6        DEEN'S PIZZA CHEESE 200GM  28055.408313   1393.641809  2693\n",
       "7         DEEN'S SLICE CHEESE 1 KG  15872.116788   2441.021898   684\n",
       "8        DEEN'S SLICE CHEESE 200GM  27251.192053   1395.638245  5000\n",
       "9               DEENS CHADDER 140G  31314.000000   5087.428571   116\n",
       "10              DEENS CHADDER 907G  24372.000000  24372.000000    36\n",
       "11             DEENS MOZRELLA 140G  36006.000000   7977.800000   226\n",
       "12                DEENS PIZZA 400G  33660.000000  33660.000000    72\n",
       "13                DEENS SLICE 250G  28116.000000   2518.631579   337\n",
       "14        w4-Dyh SLICE CHEESE 1 KG  15840.000000   2880.000000     3"
      ]
     },
     "execution_count": 48,
     "metadata": {},
     "output_type": "execute_result"
    }
   ],
   "source": [
    "price_analysis = df.groupby('Product_name').agg({'CTN_price': 'mean', 'Net_value': 'mean', 'PCS': 'sum'}).reset_index()\n",
    "price_analysis"
   ]
  },
  {
   "cell_type": "markdown",
   "metadata": {},
   "source": [
    "Analyze customer behavior"
   ]
  },
  {
   "cell_type": "code",
   "execution_count": 49,
   "metadata": {},
   "outputs": [
    {
     "data": {
      "text/html": [
       "<div>\n",
       "<style scoped>\n",
       "    .dataframe tbody tr th:only-of-type {\n",
       "        vertical-align: middle;\n",
       "    }\n",
       "\n",
       "    .dataframe tbody tr th {\n",
       "        vertical-align: top;\n",
       "    }\n",
       "\n",
       "    .dataframe thead th {\n",
       "        text-align: right;\n",
       "    }\n",
       "</style>\n",
       "<table border=\"1\" class=\"dataframe\">\n",
       "  <thead>\n",
       "    <tr style=\"text-align: right;\">\n",
       "      <th></th>\n",
       "      <th>Customer_name</th>\n",
       "      <th>Customer_address</th>\n",
       "      <th>CTN</th>\n",
       "      <th>PCS</th>\n",
       "      <th>Items_per_carton</th>\n",
       "    </tr>\n",
       "  </thead>\n",
       "  <tbody>\n",
       "    <tr>\n",
       "      <th>0</th>\n",
       "      <td>4 SEASON</td>\n",
       "      <td>SADAR</td>\n",
       "      <td>0</td>\n",
       "      <td>251</td>\n",
       "      <td>inf</td>\n",
       "    </tr>\n",
       "    <tr>\n",
       "      <th>1</th>\n",
       "      <td>7 SEAZ S S</td>\n",
       "      <td>KHYBER SUPER MARKET</td>\n",
       "      <td>0</td>\n",
       "      <td>23</td>\n",
       "      <td>inf</td>\n",
       "    </tr>\n",
       "    <tr>\n",
       "      <th>2</th>\n",
       "      <td>AD STORE</td>\n",
       "      <td>Colonel Sher Khan Market</td>\n",
       "      <td>0</td>\n",
       "      <td>90</td>\n",
       "      <td>inf</td>\n",
       "    </tr>\n",
       "    <tr>\n",
       "      <th>3</th>\n",
       "      <td>ADNAN G/S</td>\n",
       "      <td>M ZAI MARKET</td>\n",
       "      <td>0</td>\n",
       "      <td>48</td>\n",
       "      <td>inf</td>\n",
       "    </tr>\n",
       "    <tr>\n",
       "      <th>4</th>\n",
       "      <td>ADNAN GENERAL STORE</td>\n",
       "      <td>ARY BAZAR</td>\n",
       "      <td>0</td>\n",
       "      <td>2</td>\n",
       "      <td>inf</td>\n",
       "    </tr>\n",
       "    <tr>\n",
       "      <th>...</th>\n",
       "      <td>...</td>\n",
       "      <td>...</td>\n",
       "      <td>...</td>\n",
       "      <td>...</td>\n",
       "      <td>...</td>\n",
       "    </tr>\n",
       "    <tr>\n",
       "      <th>194</th>\n",
       "      <td>WARSAK MALL</td>\n",
       "      <td>WARSAK ROAD</td>\n",
       "      <td>0</td>\n",
       "      <td>36</td>\n",
       "      <td>inf</td>\n",
       "    </tr>\n",
       "    <tr>\n",
       "      <th>195</th>\n",
       "      <td>YOUNAS GENERAL STORE</td>\n",
       "      <td>GUL BERG 2</td>\n",
       "      <td>2</td>\n",
       "      <td>398</td>\n",
       "      <td>199.0</td>\n",
       "    </tr>\n",
       "    <tr>\n",
       "      <th>196</th>\n",
       "      <td>ZAFAR G/S</td>\n",
       "      <td>HAYATABAD TURANGZAI MARKET</td>\n",
       "      <td>0</td>\n",
       "      <td>256</td>\n",
       "      <td>inf</td>\n",
       "    </tr>\n",
       "    <tr>\n",
       "      <th>197</th>\n",
       "      <td>ZAHID MOHMAND</td>\n",
       "      <td>NOTHIA</td>\n",
       "      <td>0</td>\n",
       "      <td>1</td>\n",
       "      <td>inf</td>\n",
       "    </tr>\n",
       "    <tr>\n",
       "      <th>198</th>\n",
       "      <td>ZARI MART</td>\n",
       "      <td>GULBERG</td>\n",
       "      <td>0</td>\n",
       "      <td>211</td>\n",
       "      <td>inf</td>\n",
       "    </tr>\n",
       "  </tbody>\n",
       "</table>\n",
       "<p>199 rows × 5 columns</p>\n",
       "</div>"
      ],
      "text/plain": [
       "            Customer_name            Customer_address  CTN  PCS  \\\n",
       "0                4 SEASON                       SADAR    0  251   \n",
       "1              7 SEAZ S S         KHYBER SUPER MARKET    0   23   \n",
       "2                AD STORE    Colonel Sher Khan Market    0   90   \n",
       "3               ADNAN G/S                M ZAI MARKET    0   48   \n",
       "4     ADNAN GENERAL STORE                   ARY BAZAR    0    2   \n",
       "..                    ...                         ...  ...  ...   \n",
       "194           WARSAK MALL                 WARSAK ROAD    0   36   \n",
       "195  YOUNAS GENERAL STORE                  GUL BERG 2    2  398   \n",
       "196             ZAFAR G/S  HAYATABAD TURANGZAI MARKET    0  256   \n",
       "197         ZAHID MOHMAND                      NOTHIA    0    1   \n",
       "198             ZARI MART                     GULBERG    0  211   \n",
       "\n",
       "     Items_per_carton  \n",
       "0                 inf  \n",
       "1                 inf  \n",
       "2                 inf  \n",
       "3                 inf  \n",
       "4                 inf  \n",
       "..                ...  \n",
       "194               inf  \n",
       "195             199.0  \n",
       "196               inf  \n",
       "197               inf  \n",
       "198               inf  \n",
       "\n",
       "[199 rows x 5 columns]"
      ]
     },
     "execution_count": 49,
     "metadata": {},
     "output_type": "execute_result"
    }
   ],
   "source": [
    "customer_behavior = df.groupby(['Customer_name', 'Customer_address']).agg({'CTN': 'sum', 'PCS': 'sum'}).reset_index()\n",
    "customer_behavior['Items_per_carton'] = customer_behavior['PCS'] / customer_behavior['CTN']\n",
    "customer_behavior"
   ]
  },
  {
   "cell_type": "markdown",
   "metadata": {},
   "source": [
    "Identify correlations"
   ]
  },
  {
   "cell_type": "code",
   "execution_count": 50,
   "metadata": {},
   "outputs": [
    {
     "data": {
      "text/html": [
       "<div>\n",
       "<style scoped>\n",
       "    .dataframe tbody tr th:only-of-type {\n",
       "        vertical-align: middle;\n",
       "    }\n",
       "\n",
       "    .dataframe tbody tr th {\n",
       "        vertical-align: top;\n",
       "    }\n",
       "\n",
       "    .dataframe thead th {\n",
       "        text-align: right;\n",
       "    }\n",
       "</style>\n",
       "<table border=\"1\" class=\"dataframe\">\n",
       "  <thead>\n",
       "    <tr style=\"text-align: right;\">\n",
       "      <th></th>\n",
       "      <th>CTN_price</th>\n",
       "      <th>CTN</th>\n",
       "      <th>PCS</th>\n",
       "      <th>Total_discount</th>\n",
       "      <th>Net_value</th>\n",
       "    </tr>\n",
       "  </thead>\n",
       "  <tbody>\n",
       "    <tr>\n",
       "      <th>CTN_price</th>\n",
       "      <td>1.000000</td>\n",
       "      <td>-0.096463</td>\n",
       "      <td>-0.008036</td>\n",
       "      <td>-0.161988</td>\n",
       "      <td>-0.101409</td>\n",
       "    </tr>\n",
       "    <tr>\n",
       "      <th>CTN</th>\n",
       "      <td>-0.096463</td>\n",
       "      <td>1.000000</td>\n",
       "      <td>0.867981</td>\n",
       "      <td>0.747191</td>\n",
       "      <td>0.977248</td>\n",
       "    </tr>\n",
       "    <tr>\n",
       "      <th>PCS</th>\n",
       "      <td>-0.008036</td>\n",
       "      <td>0.867981</td>\n",
       "      <td>1.000000</td>\n",
       "      <td>0.678617</td>\n",
       "      <td>0.877153</td>\n",
       "    </tr>\n",
       "    <tr>\n",
       "      <th>Total_discount</th>\n",
       "      <td>-0.161988</td>\n",
       "      <td>0.747191</td>\n",
       "      <td>0.678617</td>\n",
       "      <td>1.000000</td>\n",
       "      <td>0.683084</td>\n",
       "    </tr>\n",
       "    <tr>\n",
       "      <th>Net_value</th>\n",
       "      <td>-0.101409</td>\n",
       "      <td>0.977248</td>\n",
       "      <td>0.877153</td>\n",
       "      <td>0.683084</td>\n",
       "      <td>1.000000</td>\n",
       "    </tr>\n",
       "  </tbody>\n",
       "</table>\n",
       "</div>"
      ],
      "text/plain": [
       "                CTN_price       CTN       PCS  Total_discount  Net_value\n",
       "CTN_price        1.000000 -0.096463 -0.008036       -0.161988  -0.101409\n",
       "CTN             -0.096463  1.000000  0.867981        0.747191   0.977248\n",
       "PCS             -0.008036  0.867981  1.000000        0.678617   0.877153\n",
       "Total_discount  -0.161988  0.747191  0.678617        1.000000   0.683084\n",
       "Net_value       -0.101409  0.977248  0.877153        0.683084   1.000000"
      ]
     },
     "execution_count": 50,
     "metadata": {},
     "output_type": "execute_result"
    }
   ],
   "source": [
    "corr_matrix = df[['CTN_price', 'CTN', 'PCS', 'Total_discount', 'Net_value']].corr()\n",
    "corr_matrix"
   ]
  },
  {
   "cell_type": "markdown",
   "metadata": {},
   "source": [
    "## Modeling "
   ]
  },
  {
   "cell_type": "markdown",
   "metadata": {},
   "source": [
    "## Feature Engineering"
   ]
  },
  {
   "cell_type": "markdown",
   "metadata": {},
   "source": [
    "#### Creating Day column"
   ]
  },
  {
   "cell_type": "markdown",
   "metadata": {},
   "source": [
    "Droping Columns/features"
   ]
  },
  {
   "cell_type": "code",
   "execution_count": 51,
   "metadata": {},
   "outputs": [
    {
     "data": {
      "text/plain": [
       "Index(['Date', 'C_id', 'Customer_name', 'Customer_address', 'I_code',\n",
       "       'Product_name', 'CTN_price', 'CTN', 'PCS', 'Total_discount',\n",
       "       'Net_value', 'PCS_in_CTN', 'Price_per_PCS', 'Discount_per_piece',\n",
       "       'Month', 'Year', 'Has_discount', 'Purchase_price', 'Profit_per_order'],\n",
       "      dtype='object')"
      ]
     },
     "execution_count": 51,
     "metadata": {},
     "output_type": "execute_result"
    }
   ],
   "source": [
    "df.columns"
   ]
  },
  {
   "cell_type": "code",
   "execution_count": 52,
   "metadata": {},
   "outputs": [],
   "source": [
    "drops = [\n",
    "    'C_id',\n",
    "    'Customer_name',\n",
    "    'Customer_address',\n",
    "    'Customer_address', \n",
    "]"
   ]
  },
  {
   "cell_type": "code",
   "execution_count": 53,
   "metadata": {},
   "outputs": [],
   "source": [
    "df = df.drop(drops, axis=1)"
   ]
  },
  {
   "cell_type": "markdown",
   "metadata": {},
   "source": [
    " Extract the day from the 'Date' column and assign it to the 'Day' column"
   ]
  },
  {
   "cell_type": "code",
   "execution_count": 54,
   "metadata": {},
   "outputs": [],
   "source": [
    "df['Day'] = df['Date'].dt.day"
   ]
  },
  {
   "cell_type": "markdown",
   "metadata": {},
   "source": [
    "Creating new column Month_order (Total no. of orders in a month)"
   ]
  },
  {
   "cell_type": "code",
   "execution_count": 55,
   "metadata": {},
   "outputs": [],
   "source": [
    "product_names = [\n",
    "    \"DEEN'S CHADDER CHEESE BLOCK 2K\",\n",
    "    \"DEEN'S MOZRELLA CHEESE BLOCK\",\n",
    "    \"DEEN'S CHEDDAR 200GM\",\n",
    "    \"DEEN'S MOZARELLA 200GM\",\n",
    "    \"DEEN'S PIZZA CHEESE 200GM\",\n",
    "    \"DEEN'S SLICE CHEESE 200GM\",\n",
    "    \"DEEN'S CHEDDAR 400GM\",\n",
    "    \"DEEN'S MOZARELLA 400GM\",\n",
    "    \"DEEN'S SLICE CHEESE 1 KG\"\n",
    "]\n",
    "\n",
    "date_ranges = [\n",
    "    ('2021-09-01', '2021-09-30'),\n",
    "    ('2021-10-01', '2021-10-31'),\n",
    "    ('2021-11-01', '2021-11-30'),\n",
    "    ('2021-12-01', '2021-12-31'),\n",
    "    ('2022-01-01', '2022-01-31'),\n",
    "    ('2022-02-01', '2022-02-28'),\n",
    "    ('2022-03-01', '2022-03-31'),\n",
    "    ('2022-04-01', '2022-04-30'),\n",
    "    ('2022-05-01', '2022-05-31'),\n",
    "    ('2022-06-01', '2022-06-30'),\n",
    "    ('2022-07-01', '2022-07-31'),\n",
    "    ('2022-08-01', '2022-08-31'),\n",
    "    ('2022-09-01', '2022-09-30'),\n",
    "    ('2022-10-01', '2022-10-31'),\n",
    "    ('2022-11-01', '2022-12-03')\n",
    "]\n",
    "\n",
    "# Convert the 'Date' column to datetime type if not already done\n",
    "df['Date'] = pd.to_datetime(df['Date'])\n",
    "\n",
    "# Create a new column 'month_order' and initialize it with zeros\n",
    "df['month_order'] = 0\n",
    "\n",
    "# Iterate over each product name and date range\n",
    "for product_name in product_names:\n",
    "    for start_date, end_date in date_ranges:\n",
    "        # Create a mask for the specified date range\n",
    "        date_mask = (df['Date'].between(start_date, end_date))\n",
    "        \n",
    "        # Filter the DataFrame for the specified product and date range\n",
    "        filtered_df = df[(df['Product_name'] == product_name) & date_mask]\n",
    "        \n",
    "        # Calculate the total number of PCS ordered\n",
    "        total_pcs_ordered = filtered_df['PCS'].sum()\n",
    "        \n",
    "        # Update the 'month_order' column for the specific product and date range\n",
    "        df.loc[(df['Product_name'] == product_name) & date_mask, 'month_order'] = total_pcs_ordered"
   ]
  },
  {
   "cell_type": "markdown",
   "metadata": {},
   "source": [
    "Creating new Column week_order (Total no. of pieces ordered in a week)"
   ]
  },
  {
   "cell_type": "markdown",
   "metadata": {},
   "source": [
    "### Convert the 'Date' column to datetime type if not already done"
   ]
  },
  {
   "cell_type": "code",
   "execution_count": 56,
   "metadata": {},
   "outputs": [],
   "source": [
    "df['Date'] = pd.to_datetime(df['Date'])"
   ]
  },
  {
   "cell_type": "markdown",
   "metadata": {},
   "source": [
    "Create a new column 'Week' and extract the week number within each month"
   ]
  },
  {
   "cell_type": "code",
   "execution_count": 57,
   "metadata": {},
   "outputs": [],
   "source": [
    "df['Week'] = df['Date'].dt.isocalendar().week"
   ]
  },
  {
   "cell_type": "markdown",
   "metadata": {},
   "source": [
    " Iterate over each month and update the week numbers accordingly"
   ]
  },
  {
   "cell_type": "code",
   "execution_count": 58,
   "metadata": {},
   "outputs": [],
   "source": [
    "for month in df['Month'].unique():\n",
    "    mask = (df['Month'] == month)\n",
    "    df.loc[mask, 'Week'] = df.loc[mask, 'Week'].rank(method='dense')"
   ]
  },
  {
   "cell_type": "markdown",
   "metadata": {},
   "source": [
    "Define the list of specific product names"
   ]
  },
  {
   "cell_type": "code",
   "execution_count": 59,
   "metadata": {},
   "outputs": [],
   "source": [
    "\n",
    "product_names = [\"DEEN'S CHADDER CHEESE BLOCK 2K\", \"DEEN'S MOZRELLA CHEESE BLOCK\",\n",
    "                 \"DEEN'S CHEDDAR 200GM\", \"DEEN'S MOZARELLA 200GM\",\n",
    "                 \"DEEN'S PIZZA CHEESE 200GM\", \"DEEN'S SLICE CHEESE 200GM\",\n",
    "                 \"DEEN'S CHEDDAR 400GM\", \"DEEN'S MOZARELLA 400GM\",\n",
    "                 \"DEEN'S SLICE CHEESE 1 KG\"]"
   ]
  },
  {
   "cell_type": "markdown",
   "metadata": {},
   "source": [
    "Create a new column 'week_order' and initialize it with 0"
   ]
  },
  {
   "cell_type": "code",
   "execution_count": 60,
   "metadata": {},
   "outputs": [],
   "source": [
    "df['week_order'] = 0"
   ]
  },
  {
   "cell_type": "markdown",
   "metadata": {},
   "source": [
    "Iterate over each product name:\n",
    "\n",
    "Filter the dataframe for the specific product\n",
    "\n",
    "Group the filtered data by week and calculate the sum of PCS ordered\n",
    "\n",
    "Update the 'week_order' column with the sum of PCS within each week for the specific product"
   ]
  },
  {
   "cell_type": "code",
   "execution_count": 61,
   "metadata": {},
   "outputs": [],
   "source": [
    "for product_name in product_names:\n",
    "    filtered_df = df[df['Product_name'] == product_name]\n",
    "    weekly_pcs_ordered = filtered_df.groupby(['Year', 'Month', 'Week'])['PCS'].sum()\n",
    "    df.loc[df['Product_name'] == product_name, 'week_order'] = df.loc[df['Product_name'] == product_name].groupby(['Year', 'Month', 'Week'])['PCS'].transform('sum')"
   ]
  },
  {
   "cell_type": "markdown",
   "metadata": {},
   "source": [
    " Sort the dataframe by date"
   ]
  },
  {
   "cell_type": "code",
   "execution_count": 62,
   "metadata": {},
   "outputs": [],
   "source": [
    "df = df.sort_values('Date')"
   ]
  },
  {
   "cell_type": "markdown",
   "metadata": {},
   "source": [
    "Reset the index"
   ]
  },
  {
   "cell_type": "code",
   "execution_count": 63,
   "metadata": {},
   "outputs": [],
   "source": [
    "df = df.reset_index(drop=True)"
   ]
  },
  {
   "cell_type": "markdown",
   "metadata": {},
   "source": [
    "### Creating Season cloumn"
   ]
  },
  {
   "cell_type": "markdown",
   "metadata": {},
   "source": [
    "Define a function to map the month to the corresponding season"
   ]
  },
  {
   "cell_type": "code",
   "execution_count": 64,
   "metadata": {},
   "outputs": [],
   "source": [
    "# Define a function to map the month to the corresponding season\n",
    "def get_season(month):\n",
    "    if month in [12, 1, 2]:\n",
    "        return 'Winter'\n",
    "    elif month in [3, 4]:\n",
    "        return 'Spring'\n",
    "    elif month in [5, 6, 7, 8, 9]:\n",
    "        return 'Summer'\n",
    "    else:\n",
    "        return 'Autumn'\n",
    "\n",
    "# Apply the function to the 'Month' column and assign the result to the 'Season' column\n",
    "df['Season'] = df['Month'].apply(get_season)\n"
   ]
  },
  {
   "cell_type": "code",
   "execution_count": 65,
   "metadata": {},
   "outputs": [],
   "source": [
    "# Create a dictionary to map seasons to numerical values\n",
    "season_mapping = {'Winter': 1, 'Spring': 2, 'Summer': 3, 'Autumn': 4}\n",
    "\n",
    "# Map the seasons to numerical values and assign the result to a new column 'Season_encoded'\n",
    "df['Season_encoded'] = df['Season'].map(season_mapping)"
   ]
  },
  {
   "cell_type": "code",
   "execution_count": 66,
   "metadata": {},
   "outputs": [
    {
     "name": "stdout",
     "output_type": "stream",
     "text": [
      "Column with 'BIG BITE FAST FOOD': None\n"
     ]
    }
   ],
   "source": [
    "# Assuming 'df' is your dataset dataframe\n",
    "column_with_value = None\n",
    "\n",
    "for column in df.columns:\n",
    "    if 'BIG BITE FAST FOOD' in df[column].values:\n",
    "        column_with_value = column\n",
    "        break\n",
    "\n",
    "# Print the column with the desired value\n",
    "print(\"Column with 'BIG BITE FAST FOOD':\", column_with_value)\n"
   ]
  },
  {
   "cell_type": "code",
   "execution_count": 67,
   "metadata": {},
   "outputs": [
    {
     "data": {
      "text/html": [
       "<div>\n",
       "<style scoped>\n",
       "    .dataframe tbody tr th:only-of-type {\n",
       "        vertical-align: middle;\n",
       "    }\n",
       "\n",
       "    .dataframe tbody tr th {\n",
       "        vertical-align: top;\n",
       "    }\n",
       "\n",
       "    .dataframe thead th {\n",
       "        text-align: right;\n",
       "    }\n",
       "</style>\n",
       "<table border=\"1\" class=\"dataframe\">\n",
       "  <thead>\n",
       "    <tr style=\"text-align: right;\">\n",
       "      <th></th>\n",
       "      <th>Date</th>\n",
       "      <th>I_code</th>\n",
       "      <th>Product_name</th>\n",
       "      <th>CTN_price</th>\n",
       "      <th>CTN</th>\n",
       "      <th>PCS</th>\n",
       "      <th>Total_discount</th>\n",
       "      <th>Net_value</th>\n",
       "      <th>PCS_in_CTN</th>\n",
       "      <th>Price_per_PCS</th>\n",
       "      <th>...</th>\n",
       "      <th>Year</th>\n",
       "      <th>Has_discount</th>\n",
       "      <th>Purchase_price</th>\n",
       "      <th>Profit_per_order</th>\n",
       "      <th>Day</th>\n",
       "      <th>month_order</th>\n",
       "      <th>Week</th>\n",
       "      <th>week_order</th>\n",
       "      <th>Season</th>\n",
       "      <th>Season_encoded</th>\n",
       "    </tr>\n",
       "  </thead>\n",
       "  <tbody>\n",
       "    <tr>\n",
       "      <th>0</th>\n",
       "      <td>2021-09-10</td>\n",
       "      <td>1770</td>\n",
       "      <td>DEEN'S CHADDER CHEESE BLOCK 2K</td>\n",
       "      <td>14500</td>\n",
       "      <td>1</td>\n",
       "      <td>10</td>\n",
       "      <td>1000</td>\n",
       "      <td>13500</td>\n",
       "      <td>10</td>\n",
       "      <td>1450</td>\n",
       "      <td>...</td>\n",
       "      <td>2021</td>\n",
       "      <td>1</td>\n",
       "      <td>12282</td>\n",
       "      <td>1218</td>\n",
       "      <td>10</td>\n",
       "      <td>142</td>\n",
       "      <td>2</td>\n",
       "      <td>18</td>\n",
       "      <td>Summer</td>\n",
       "      <td>3</td>\n",
       "    </tr>\n",
       "    <tr>\n",
       "      <th>1</th>\n",
       "      <td>2021-09-10</td>\n",
       "      <td>1771</td>\n",
       "      <td>DEEN'S MOZRELLA CHEESE BLOCK</td>\n",
       "      <td>19250</td>\n",
       "      <td>0</td>\n",
       "      <td>5</td>\n",
       "      <td>375</td>\n",
       "      <td>9250</td>\n",
       "      <td>10</td>\n",
       "      <td>1925</td>\n",
       "      <td>...</td>\n",
       "      <td>2021</td>\n",
       "      <td>1</td>\n",
       "      <td>16362</td>\n",
       "      <td>1069</td>\n",
       "      <td>10</td>\n",
       "      <td>103</td>\n",
       "      <td>2</td>\n",
       "      <td>13</td>\n",
       "      <td>Summer</td>\n",
       "      <td>3</td>\n",
       "    </tr>\n",
       "    <tr>\n",
       "      <th>2</th>\n",
       "      <td>2021-09-10</td>\n",
       "      <td>1770</td>\n",
       "      <td>DEEN'S CHADDER CHEESE BLOCK 2K</td>\n",
       "      <td>14500</td>\n",
       "      <td>0</td>\n",
       "      <td>2</td>\n",
       "      <td>200</td>\n",
       "      <td>2700</td>\n",
       "      <td>10</td>\n",
       "      <td>1450</td>\n",
       "      <td>...</td>\n",
       "      <td>2021</td>\n",
       "      <td>1</td>\n",
       "      <td>12282</td>\n",
       "      <td>243</td>\n",
       "      <td>10</td>\n",
       "      <td>142</td>\n",
       "      <td>2</td>\n",
       "      <td>18</td>\n",
       "      <td>Summer</td>\n",
       "      <td>3</td>\n",
       "    </tr>\n",
       "    <tr>\n",
       "      <th>3</th>\n",
       "      <td>2021-09-10</td>\n",
       "      <td>1771</td>\n",
       "      <td>DEEN'S MOZRELLA CHEESE BLOCK</td>\n",
       "      <td>19250</td>\n",
       "      <td>0</td>\n",
       "      <td>2</td>\n",
       "      <td>150</td>\n",
       "      <td>3700</td>\n",
       "      <td>10</td>\n",
       "      <td>1925</td>\n",
       "      <td>...</td>\n",
       "      <td>2021</td>\n",
       "      <td>1</td>\n",
       "      <td>16362</td>\n",
       "      <td>427</td>\n",
       "      <td>10</td>\n",
       "      <td>103</td>\n",
       "      <td>2</td>\n",
       "      <td>13</td>\n",
       "      <td>Summer</td>\n",
       "      <td>3</td>\n",
       "    </tr>\n",
       "    <tr>\n",
       "      <th>4</th>\n",
       "      <td>2021-09-10</td>\n",
       "      <td>1770</td>\n",
       "      <td>DEEN'S CHADDER CHEESE BLOCK 2K</td>\n",
       "      <td>14500</td>\n",
       "      <td>0</td>\n",
       "      <td>2</td>\n",
       "      <td>200</td>\n",
       "      <td>2700</td>\n",
       "      <td>10</td>\n",
       "      <td>1450</td>\n",
       "      <td>...</td>\n",
       "      <td>2021</td>\n",
       "      <td>1</td>\n",
       "      <td>12282</td>\n",
       "      <td>243</td>\n",
       "      <td>10</td>\n",
       "      <td>142</td>\n",
       "      <td>2</td>\n",
       "      <td>18</td>\n",
       "      <td>Summer</td>\n",
       "      <td>3</td>\n",
       "    </tr>\n",
       "  </tbody>\n",
       "</table>\n",
       "<p>5 rows × 22 columns</p>\n",
       "</div>"
      ],
      "text/plain": [
       "        Date  I_code                    Product_name  CTN_price  CTN  PCS  \\\n",
       "0 2021-09-10    1770  DEEN'S CHADDER CHEESE BLOCK 2K      14500    1   10   \n",
       "1 2021-09-10    1771    DEEN'S MOZRELLA CHEESE BLOCK      19250    0    5   \n",
       "2 2021-09-10    1770  DEEN'S CHADDER CHEESE BLOCK 2K      14500    0    2   \n",
       "3 2021-09-10    1771    DEEN'S MOZRELLA CHEESE BLOCK      19250    0    2   \n",
       "4 2021-09-10    1770  DEEN'S CHADDER CHEESE BLOCK 2K      14500    0    2   \n",
       "\n",
       "   Total_discount  Net_value  PCS_in_CTN  Price_per_PCS  ...  Year  \\\n",
       "0            1000      13500          10           1450  ...  2021   \n",
       "1             375       9250          10           1925  ...  2021   \n",
       "2             200       2700          10           1450  ...  2021   \n",
       "3             150       3700          10           1925  ...  2021   \n",
       "4             200       2700          10           1450  ...  2021   \n",
       "\n",
       "   Has_discount  Purchase_price  Profit_per_order  Day  month_order  Week  \\\n",
       "0             1           12282              1218   10          142     2   \n",
       "1             1           16362              1069   10          103     2   \n",
       "2             1           12282               243   10          142     2   \n",
       "3             1           16362               427   10          103     2   \n",
       "4             1           12282               243   10          142     2   \n",
       "\n",
       "   week_order  Season  Season_encoded  \n",
       "0          18  Summer               3  \n",
       "1          13  Summer               3  \n",
       "2          18  Summer               3  \n",
       "3          13  Summer               3  \n",
       "4          18  Summer               3  \n",
       "\n",
       "[5 rows x 22 columns]"
      ]
     },
     "execution_count": 67,
     "metadata": {},
     "output_type": "execute_result"
    }
   ],
   "source": [
    "df.head()"
   ]
  },
  {
   "cell_type": "code",
   "execution_count": 68,
   "metadata": {},
   "outputs": [
    {
     "name": "stdout",
     "output_type": "stream",
     "text": [
      "<class 'pandas.core.frame.DataFrame'>\n",
      "RangeIndex: 7023 entries, 0 to 7022\n",
      "Data columns (total 22 columns):\n",
      " #   Column              Non-Null Count  Dtype         \n",
      "---  ------              --------------  -----         \n",
      " 0   Date                7023 non-null   datetime64[ns]\n",
      " 1   I_code              7023 non-null   int64         \n",
      " 2   Product_name        7023 non-null   object        \n",
      " 3   CTN_price           7023 non-null   int64         \n",
      " 4   CTN                 7023 non-null   int64         \n",
      " 5   PCS                 7023 non-null   int64         \n",
      " 6   Total_discount      7023 non-null   int64         \n",
      " 7   Net_value           7023 non-null   int64         \n",
      " 8   PCS_in_CTN          7023 non-null   int64         \n",
      " 9   Price_per_PCS       7023 non-null   int64         \n",
      " 10  Discount_per_piece  7023 non-null   int64         \n",
      " 11  Month               7023 non-null   int32         \n",
      " 12  Year                7023 non-null   int32         \n",
      " 13  Has_discount        7023 non-null   int64         \n",
      " 14  Purchase_price      7023 non-null   int64         \n",
      " 15  Profit_per_order    7023 non-null   int64         \n",
      " 16  Day                 7023 non-null   int32         \n",
      " 17  month_order         7023 non-null   int64         \n",
      " 18  Week                7023 non-null   UInt32        \n",
      " 19  week_order          7023 non-null   int64         \n",
      " 20  Season              7023 non-null   object        \n",
      " 21  Season_encoded      7023 non-null   int64         \n",
      "dtypes: UInt32(1), datetime64[ns](1), int32(3), int64(15), object(2)\n",
      "memory usage: 1.1+ MB\n"
     ]
    }
   ],
   "source": [
    "df.info()"
   ]
  },
  {
   "cell_type": "code",
   "execution_count": 69,
   "metadata": {},
   "outputs": [],
   "source": [
    "df['Week'] = df['Week'].astype(np.int32)"
   ]
  },
  {
   "cell_type": "code",
   "execution_count": 70,
   "metadata": {},
   "outputs": [
    {
     "name": "stdout",
     "output_type": "stream",
     "text": [
      "<class 'pandas.core.frame.DataFrame'>\n",
      "RangeIndex: 7023 entries, 0 to 7022\n",
      "Data columns (total 22 columns):\n",
      " #   Column              Non-Null Count  Dtype         \n",
      "---  ------              --------------  -----         \n",
      " 0   Date                7023 non-null   datetime64[ns]\n",
      " 1   I_code              7023 non-null   int64         \n",
      " 2   Product_name        7023 non-null   object        \n",
      " 3   CTN_price           7023 non-null   int64         \n",
      " 4   CTN                 7023 non-null   int64         \n",
      " 5   PCS                 7023 non-null   int64         \n",
      " 6   Total_discount      7023 non-null   int64         \n",
      " 7   Net_value           7023 non-null   int64         \n",
      " 8   PCS_in_CTN          7023 non-null   int64         \n",
      " 9   Price_per_PCS       7023 non-null   int64         \n",
      " 10  Discount_per_piece  7023 non-null   int64         \n",
      " 11  Month               7023 non-null   int32         \n",
      " 12  Year                7023 non-null   int32         \n",
      " 13  Has_discount        7023 non-null   int64         \n",
      " 14  Purchase_price      7023 non-null   int64         \n",
      " 15  Profit_per_order    7023 non-null   int64         \n",
      " 16  Day                 7023 non-null   int32         \n",
      " 17  month_order         7023 non-null   int64         \n",
      " 18  Week                7023 non-null   int32         \n",
      " 19  week_order          7023 non-null   int64         \n",
      " 20  Season              7023 non-null   object        \n",
      " 21  Season_encoded      7023 non-null   int64         \n",
      "dtypes: datetime64[ns](1), int32(4), int64(15), object(2)\n",
      "memory usage: 1.1+ MB\n"
     ]
    }
   ],
   "source": [
    "df.info()"
   ]
  },
  {
   "cell_type": "markdown",
   "metadata": {},
   "source": [
    "Define the dataset class"
   ]
  },
  {
   "cell_type": "code",
   "execution_count": 71,
   "metadata": {},
   "outputs": [],
   "source": [
    "class CustomDataset(Dataset):\n",
    "    def __init__(self, data, targets):\n",
    "        self.data = data\n",
    "        self.targets = targets\n",
    "\n",
    "    def __len__(self):\n",
    "        return len(self.data)\n",
    "\n",
    "    def __getitem__(self, index):\n",
    "        x = torch.tensor(self.data[index], dtype=torch.float32)\n",
    "        y = torch.tensor(self.targets[index], dtype=torch.float32)\n",
    "        return x, y"
   ]
  },
  {
   "cell_type": "markdown",
   "metadata": {},
   "source": [
    "Define the inputs and outputs"
   ]
  },
  {
   "cell_type": "code",
   "execution_count": 72,
   "metadata": {},
   "outputs": [],
   "source": [
    "inputs = df[['I_code', 'Day', 'Month', 'Week', 'Year', 'PCS', 'Season_encoded', 'Has_discount']].values\n",
    "outputs = df[['month_order', 'Net_value', 'week_order', 'Profit_per_order']].values"
   ]
  },
  {
   "cell_type": "markdown",
   "metadata": {},
   "source": [
    "Normalize the inputs and outputs"
   ]
  },
  {
   "cell_type": "code",
   "execution_count": 73,
   "metadata": {},
   "outputs": [],
   "source": [
    "inputs = (inputs - inputs.min(axis=0)) / (inputs.max(axis=0) - inputs.min(axis=0))\n",
    "outputs = (outputs - outputs.min(axis=0)) / (outputs.max(axis=0) - outputs.min(axis=0))"
   ]
  },
  {
   "cell_type": "markdown",
   "metadata": {},
   "source": [
    "Split the data into training and testing sets"
   ]
  },
  {
   "cell_type": "code",
   "execution_count": 74,
   "metadata": {},
   "outputs": [],
   "source": [
    "train_size = int(len(inputs) * 0.8)\n",
    "train_inputs = inputs[:train_size]\n",
    "train_outputs = outputs[:train_size]\n",
    "test_inputs = inputs[train_size:]\n",
    "test_outputs = outputs[train_size:]"
   ]
  },
  {
   "cell_type": "markdown",
   "metadata": {},
   "source": [
    "Create DataLoader for training and testing sets"
   ]
  },
  {
   "cell_type": "code",
   "execution_count": 75,
   "metadata": {},
   "outputs": [],
   "source": [
    "train_dataset = CustomDataset(train_inputs, train_outputs)\n",
    "test_dataset = CustomDataset(test_inputs, test_outputs)\n",
    "batch_size = 32\n",
    "train_loader = DataLoader(train_dataset, batch_size=batch_size, shuffle=True)\n",
    "test_loader = DataLoader(test_dataset, batch_size=batch_size, shuffle=False)"
   ]
  },
  {
   "cell_type": "markdown",
   "metadata": {},
   "source": [
    "Set the device"
   ]
  },
  {
   "cell_type": "code",
   "execution_count": 76,
   "metadata": {},
   "outputs": [],
   "source": [
    "device = torch.device('cuda' if torch.cuda.is_available() else 'cpu')"
   ]
  },
  {
   "cell_type": "markdown",
   "metadata": {},
   "source": [
    "Initialize the model and move it to the device"
   ]
  },
  {
   "cell_type": "code",
   "execution_count": 77,
   "metadata": {},
   "outputs": [],
   "source": [
    "input_size = inputs.shape[1]\n",
    "output_size = outputs.shape[1]\n",
    "hidden_size = 64\n",
    "model = LSTMModel(input_size, hidden_size, output_size).to(device)"
   ]
  },
  {
   "cell_type": "markdown",
   "metadata": {},
   "source": [
    "Define the loss function and optimizer"
   ]
  },
  {
   "cell_type": "code",
   "execution_count": 78,
   "metadata": {},
   "outputs": [],
   "source": [
    "criterion = nn.MSELoss()\n",
    "optimizer = optim.Adam(model.parameters(), lr=0.001)"
   ]
  },
  {
   "cell_type": "markdown",
   "metadata": {},
   "source": [
    "Train the model"
   ]
  },
  {
   "cell_type": "code",
   "execution_count": 79,
   "metadata": {},
   "outputs": [
    {
     "name": "stderr",
     "output_type": "stream",
     "text": [
      "/home/usamah/anaconda3/envs/distribution_businesss/lib/python3.11/site-packages/torch/nn/modules/loss.py:536: UserWarning: Using a target size (torch.Size([32, 4])) that is different to the input size (torch.Size([4])). This will likely lead to incorrect results due to broadcasting. Please ensure they have the same size.\n",
      "  return F.mse_loss(input, target, reduction=self.reduction)\n",
      "/home/usamah/anaconda3/envs/distribution_businesss/lib/python3.11/site-packages/torch/nn/modules/loss.py:536: UserWarning: Using a target size (torch.Size([18, 4])) that is different to the input size (torch.Size([4])). This will likely lead to incorrect results due to broadcasting. Please ensure they have the same size.\n",
      "  return F.mse_loss(input, target, reduction=self.reduction)\n"
     ]
    },
    {
     "name": "stdout",
     "output_type": "stream",
     "text": [
      "Epoch 1/50, Loss: 0.0244\n",
      "Epoch 2/50, Loss: 0.0203\n",
      "Epoch 3/50, Loss: 0.0203\n",
      "Epoch 4/50, Loss: 0.0202\n",
      "Epoch 5/50, Loss: 0.0202\n",
      "Epoch 6/50, Loss: 0.0201\n",
      "Epoch 7/50, Loss: 0.0202\n",
      "Epoch 8/50, Loss: 0.0200\n",
      "Epoch 9/50, Loss: 0.0202\n",
      "Epoch 10/50, Loss: 0.0201\n",
      "Epoch 11/50, Loss: 0.0201\n",
      "Epoch 12/50, Loss: 0.0201\n",
      "Epoch 13/50, Loss: 0.0200\n",
      "Epoch 14/50, Loss: 0.0200\n",
      "Epoch 15/50, Loss: 0.0200\n",
      "Epoch 16/50, Loss: 0.0201\n",
      "Epoch 17/50, Loss: 0.0201\n",
      "Epoch 18/50, Loss: 0.0200\n",
      "Epoch 19/50, Loss: 0.0201\n",
      "Epoch 20/50, Loss: 0.0200\n",
      "Epoch 21/50, Loss: 0.0201\n",
      "Epoch 22/50, Loss: 0.0200\n",
      "Epoch 23/50, Loss: 0.0200\n",
      "Epoch 24/50, Loss: 0.0200\n",
      "Epoch 25/50, Loss: 0.0200\n",
      "Epoch 26/50, Loss: 0.0201\n",
      "Epoch 27/50, Loss: 0.0200\n",
      "Epoch 28/50, Loss: 0.0201\n",
      "Epoch 29/50, Loss: 0.0200\n",
      "Epoch 30/50, Loss: 0.0200\n",
      "Epoch 31/50, Loss: 0.0201\n",
      "Epoch 32/50, Loss: 0.0200\n",
      "Epoch 33/50, Loss: 0.0200\n",
      "Epoch 34/50, Loss: 0.0200\n",
      "Epoch 35/50, Loss: 0.0201\n",
      "Epoch 36/50, Loss: 0.0200\n",
      "Epoch 37/50, Loss: 0.0201\n",
      "Epoch 38/50, Loss: 0.0200\n",
      "Epoch 39/50, Loss: 0.0200\n",
      "Epoch 40/50, Loss: 0.0200\n",
      "Epoch 41/50, Loss: 0.0200\n",
      "Epoch 42/50, Loss: 0.0200\n",
      "Epoch 43/50, Loss: 0.0199\n",
      "Epoch 44/50, Loss: 0.0200\n",
      "Epoch 45/50, Loss: 0.0200\n",
      "Epoch 46/50, Loss: 0.0199\n",
      "Epoch 47/50, Loss: 0.0200\n",
      "Epoch 48/50, Loss: 0.0200\n",
      "Epoch 49/50, Loss: 0.0199\n",
      "Epoch 50/50, Loss: 0.0200\n"
     ]
    }
   ],
   "source": [
    "num_epochs = 50\n",
    "model.train()\n",
    "for epoch in range(num_epochs):\n",
    "    total_loss = 0\n",
    "    for inputs, targets in train_loader:\n",
    "        inputs = inputs.to(device)\n",
    "        targets = targets.to(device)\n",
    "\n",
    "        optimizer.zero_grad()\n",
    "\n",
    "        outputs = model(inputs)\n",
    "        loss = criterion(outputs, targets)\n",
    "        total_loss += loss.item()\n",
    "\n",
    "        loss.backward()\n",
    "        optimizer.step()\n",
    "\n",
    "    average_loss = total_loss / len(train_loader)\n",
    "    print(f'Epoch {epoch+1}/{num_epochs}, Loss: {average_loss:.4f}')"
   ]
  },
  {
   "cell_type": "code",
   "execution_count": 80,
   "metadata": {},
   "outputs": [
    {
     "name": "stdout",
     "output_type": "stream",
     "text": [
      "Prediction 1:\n",
      "Monthly Order: 0.12542352\n",
      "Net Value: 0.022349473\n",
      "Weekly Order: 0.08038871\n",
      "Profit per Order: 0.060163826\n"
     ]
    }
   ],
   "source": [
    "# Make predictions\n",
    "model.eval()\n",
    "with torch.no_grad():\n",
    "    test_inputs = torch.tensor(test_inputs, dtype=torch.float32).unsqueeze(0).to(device)\n",
    "    predictions = model(test_inputs)\n",
    "\n",
    "# Denormalize the predictions\n",
    "predictions = (\n",
    "    predictions.cpu().detach().numpy()\n",
    "    * (\n",
    "        torch.max(outputs, dim=0).values.cpu().detach().numpy()\n",
    "        - torch.min(outputs, dim=0).values.cpu().detach().numpy()\n",
    "    )\n",
    "    + torch.min(outputs, dim=0).values.cpu().detach().numpy()\n",
    ")\n",
    "\n",
    "# Print the predicted values\n",
    "for i, prediction in enumerate(predictions):\n",
    "    print(f'Prediction {i+1}:')\n",
    "    print('Monthly Order:', prediction[0])\n",
    "    print('Net Value:', prediction[1])\n",
    "    print('Weekly Order:', prediction[2])\n",
    "    print('Profit per Order:', prediction[3])\n"
   ]
  },
  {
   "cell_type": "code",
   "execution_count": 81,
   "metadata": {},
   "outputs": [
    {
     "name": "stdout",
     "output_type": "stream",
     "text": [
      "Model saved successfully.\n"
     ]
    }
   ],
   "source": [
    "torch.save(model.state_dict(), 'lstm_model.pth')\n",
    "print(\"Model saved successfully.\")"
   ]
  }
 ],
 "metadata": {
  "kernelspec": {
   "display_name": "distribution_businesss",
   "language": "python",
   "name": "python3"
  },
  "language_info": {
   "codemirror_mode": {
    "name": "ipython",
    "version": 3
   },
   "file_extension": ".py",
   "mimetype": "text/x-python",
   "name": "python",
   "nbconvert_exporter": "python",
   "pygments_lexer": "ipython3",
   "version": "3.11.4"
  },
  "orig_nbformat": 4
 },
 "nbformat": 4,
 "nbformat_minor": 2
}
